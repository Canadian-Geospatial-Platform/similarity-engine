{
 "cells": [
  {
   "cell_type": "code",
   "execution_count": 1,
   "metadata": {},
   "outputs": [],
   "source": [
    "import boto3\n",
    "import logging \n",
    "from botocore.exceptions import ClientError\n",
    "import matplotlib.pyplot as plt \n",
    "\n",
    "import pandas as pd \n",
    "import io"
   ]
  },
  {
   "attachments": {},
   "cell_type": "markdown",
   "metadata": {},
   "source": [
    "## Load data "
   ]
  },
  {
   "cell_type": "code",
   "execution_count": 2,
   "metadata": {},
   "outputs": [
    {
     "name": "stdout",
     "output_type": "stream",
     "text": [
      "Loading records.parquet from webpresence-geocore-geojson-to-parquet-dev to pandas dataframe\n",
      "Loading Processed_records.parquet from nlp-data-preprocessing to pandas dataframe\n"
     ]
    }
   ],
   "source": [
    "# Function to read the parquet file as pandas dataframe \n",
    "def open_S3_file_as_df(bucket_name, file_name):\n",
    "    \"\"\"Open a S3 parquet file from bucket and filename and return the parquet as pandas dataframe\n",
    "    :param bucket_name: Bucket name\n",
    "    :param file_name: Specific file name to open\n",
    "    :return: body of the file as a string\n",
    "    \"\"\"\n",
    "    try: \n",
    "        s3 = boto3.resource('s3')\n",
    "        object = s3.Object(bucket_name, file_name)\n",
    "        body = object.get()['Body'].read()\n",
    "        df = pd.read_parquet(io.BytesIO(body))\n",
    "        print(f'Loading {file_name} from {bucket_name} to pandas dataframe')\n",
    "        return df\n",
    "    except ClientError as e:\n",
    "        logging.error(e)\n",
    "        return e\n",
    "file_name = \"records.parquet\"\n",
    "bucket_name = \"webpresence-geocore-geojson-to-parquet-dev\"\n",
    "bucket_name_nlp='nlp-data-preprocessing'\n",
    "df_raw = open_S3_file_as_df(bucket_name, 'records.parquet')\n",
    "df_clean = open_S3_file_as_df(bucket_name_nlp, 'Processed_records.parquet')\n"
   ]
  },
  {
   "attachments": {},
   "cell_type": "markdown",
   "metadata": {},
   "source": [
    "## Simple cleaning before visualization \n",
    "Here, we will start with the raw dataset.\n",
    "* Duplicate rows have been removed.\n",
    "* Columns with more than 50% missing values have been removed, leaving us with 43 columns.\n",
    "* Remaining missing values in categorical columns have been filled with 'Unknown'.\n",
    "* The single numerical column ('features_popularity') did not have any missing values, so no filling was needed there.\n",
    "* Remove columns with French text \n",
    "* Subset to columns with meaningful information "
   ]
  },
  {
   "cell_type": "code",
   "execution_count": 3,
   "metadata": {},
   "outputs": [
    {
     "name": "stdout",
     "output_type": "stream",
     "text": [
      "<class 'pandas.core.frame.DataFrame'>\n",
      "RangeIndex: 7343 entries, 0 to 7342\n",
      "Data columns (total 68 columns):\n",
      " #   Column                                                         Non-Null Count  Dtype \n",
      "---  ------                                                         --------------  ----- \n",
      " 0   features_type                                                  7343 non-null   string\n",
      " 1   features_geometry_type                                         7343 non-null   string\n",
      " 2   features_geometry_coordinates                                  7343 non-null   string\n",
      " 3   features_properties_id                                         7343 non-null   object\n",
      " 4   features_properties_title_en                                   7342 non-null   string\n",
      " 5   features_properties_title_fr                                   7342 non-null   string\n",
      " 6   features_properties_description_en                             7343 non-null   string\n",
      " 7   features_properties_description_fr                             7343 non-null   string\n",
      " 8   features_properties_keywords_en                                6194 non-null   string\n",
      " 9   features_properties_keywords_fr                                6194 non-null   string\n",
      " 10  features_properties_topicCategory                              7343 non-null   string\n",
      " 11  features_properties_parentIdentifier                           821 non-null    string\n",
      " 12  features_properties_date_published_text                        7322 non-null   string\n",
      " 13  features_properties_date_published_date                        7321 non-null   string\n",
      " 14  features_properties_date_created_text                          7312 non-null   string\n",
      " 15  features_properties_date_created_date                          7312 non-null   string\n",
      " 16  features_properties_date_revision_text                         1317 non-null   string\n",
      " 17  features_properties_date_revision_date                         1317 non-null   string\n",
      " 18  features_properties_date_notavailable_text                     1149 non-null   string\n",
      " 19  features_properties_date_notavailable_date                     1149 non-null   string\n",
      " 20  features_properties_date_inforce_text                          1149 non-null   string\n",
      " 21  features_properties_date_inforce_date                          1149 non-null   string\n",
      " 22  features_properties_date_adopted_text                          1149 non-null   string\n",
      " 23  features_properties_date_adopted_date                          1149 non-null   string\n",
      " 24  features_properties_date_deprecated_text                       1149 non-null   string\n",
      " 25  features_properties_date_deprecated_date                       1149 non-null   string\n",
      " 26  features_properties_date_superceded_text                       1149 non-null   string\n",
      " 27  features_properties_date_superceded_date                       1149 non-null   string\n",
      " 28  features_properties_spatialRepresentation                      7236 non-null   string\n",
      " 29  features_properties_type                                       7343 non-null   string\n",
      " 30  features_properties_geometry                                   7343 non-null   string\n",
      " 31  features_properties_temporalExtent_begin                       7296 non-null   string\n",
      " 32  features_properties_temporalExtent_end                         4077 non-null   string\n",
      " 33  features_properties_refSys                                     6638 non-null   string\n",
      " 34  features_properties_refSys_version                             5761 non-null   string\n",
      " 35  features_properties_status                                     7343 non-null   string\n",
      " 36  features_properties_maintenance                                7343 non-null   string\n",
      " 37  features_properties_metadataStandard_en                        7163 non-null   string\n",
      " 38  features_properties_metadataStandard_fr                        7163 non-null   string\n",
      " 39  features_properties_metadataStandardVersion                    7082 non-null   string\n",
      " 40  features_properties_graphicOverview                            7343 non-null   string\n",
      " 41  features_properties_distributionFormat_name                    1957 non-null   string\n",
      " 42  features_properties_distributionFormat_format                  1957 non-null   string\n",
      " 43  features_properties_useLimits_en                               7272 non-null   string\n",
      " 44  features_properties_useLimits_fr                               7272 non-null   string\n",
      " 45  features_properties_accessConstraints                          6995 non-null   string\n",
      " 46  features_properties_otherConstraints_en                        1246 non-null   string\n",
      " 47  features_properties_otherConstraints_fr                        1246 non-null   string\n",
      " 48  features_properties_dateStamp                                  2823 non-null   string\n",
      " 49  features_properties_dataSetURI                                 1149 non-null   string\n",
      " 50  features_properties_locale_language                            7163 non-null   string\n",
      " 51  features_properties_locale_country                             7082 non-null   string\n",
      " 52  features_properties_locale_encoding                            7162 non-null   string\n",
      " 53  features_properties_language                                   7163 non-null   string\n",
      " 54  features_properties_characterSet                               7163 non-null   string\n",
      " 55  features_properties_environmentDescription                     1196 non-null   string\n",
      " 56  features_properties_supplementalInformation_en                 1388 non-null   string\n",
      " 57  features_properties_supplementalInformation_fr                 1388 non-null   string\n",
      " 58  features_properties_contact                                    7343 non-null   string\n",
      " 59  features_properties_credits                                    7343 non-null   string\n",
      " 60  features_properties_cited                                      7343 non-null   object\n",
      " 61  features_properties_distributor                                7343 non-null   object\n",
      " 62  features_properties_options                                    7343 non-null   string\n",
      " 63  features_properties_temporalExtent_end_@indeterminatePosition  25 non-null     string\n",
      " 64  features_properties_temporalExtent_end_#text                   22 non-null     string\n",
      " 65  features_properties_plugins                                    7343 non-null   object\n",
      " 66  features_properties_sourceSystemName                           1149 non-null   string\n",
      " 67  features_popularity                                            7343 non-null   int64 \n",
      "dtypes: int64(1), object(4), string(63)\n",
      "memory usage: 3.8+ MB\n"
     ]
    },
    {
     "data": {
      "text/plain": [
       "(None,\n",
       "   features_type features_geometry_type  \\\n",
       " 0       Feature                Polygon   \n",
       " 1       Feature                Polygon   \n",
       " 2       Feature                Polygon   \n",
       " 3       Feature                Polygon   \n",
       " 4       Feature                Polygon   \n",
       " \n",
       "                        features_geometry_coordinates  \\\n",
       " 0  [[[-141.003, 41.6755], [-52.6174, 41.6755], [-...   \n",
       " 1  [[[-142, 41], [-52, 41], [-52, 84], [-142, 84]...   \n",
       " 2  [[[-141.003, 41.6755], [-52.6174, 41.6755], [-...   \n",
       " 3  [[[-104.75571511, 50.42392886], [-104.56356008...   \n",
       " 4  [[[-141.003, 41.6755], [-52.6174, 41.6755], [-...   \n",
       " \n",
       "                  features_properties_id  \\\n",
       " 0  000183ed-8864-42f0-ae43-c4313a860720   \n",
       " 1  7f245e4d-76c2-4caa-951a-45d1d2051333   \n",
       " 2  085024ac-5a48-427a-a2ea-d62af73f2142   \n",
       " 3  03ccfb5c-a06e-43e3-80fd-09d4f8f69703   \n",
       " 4  488faf70-b50b-4749-ac1c-a1fd44e06f11   \n",
       " \n",
       "                         features_properties_title_en  \\\n",
       " 0  Principal Mineral Areas, Producing Mines, and ...   \n",
       " 1        Canadian Digital Elevation Model, 1945-2011   \n",
       " 2    Canada's National Earthquake Scenario Catalogue   \n",
       " 3  Temporal Series of the National Air Photo Libr...   \n",
       " 4                       Indigenous Mining Agreements   \n",
       " \n",
       "                         features_properties_title_fr  \\\n",
       " 0  Principales régions minières, principales mine...   \n",
       " 1  Modèle numérique d'élévation du Canada, 1945-2011   \n",
       " 2  Catalogue national de scénarios de tremblement...   \n",
       " 3  Série temporelle de la photothèque nationale d...   \n",
       " 4                      Ententes minières autochtones   \n",
       " \n",
       "                   features_properties_description_en  \\\n",
       " 0  This dataset is produced and published annuall...   \n",
       " 1  This collection is a legacy product that is no...   \n",
       " 2  The National Earthquake Scenario Catalogue, pr...   \n",
       " 3  Note: To visualize the data in the viewer, zoo...   \n",
       " 4  The Indigenous Mining Agreements dataset provi...   \n",
       " \n",
       "                   features_properties_description_fr  \\\n",
       " 0  Ce jeu de données est produit et publié annuel...   \n",
       " 1  Ce produit fait maintenant partie du patrimoin...   \n",
       " 2  Le dépôt est utilisé pour l’élaboration du cat...   \n",
       " 3  Note: Pour visualiser les données dans l’outil...   \n",
       " 4  Les données des ententes minières autochtones ...   \n",
       " \n",
       "                      features_properties_keywords_en  \\\n",
       " 0  mineralization, mineral occurrences, mines, hy...   \n",
       " 1  Canada, Earth Sciences, elevation, relief, geo...   \n",
       " 2  Emergency preparedness, Earth sciences, Earthq...   \n",
       " 3  Mosaic, Aerial photography, Access to informat...   \n",
       " 4  Indigenous, First Nations, Métis, Indigenous a...   \n",
       " \n",
       "                      features_properties_keywords_fr  ...  \\\n",
       " 0  minéralisation, indices minéralisés, mines, hy...  ...   \n",
       " 1  Canada, Sciences de la Terre, élévation, relie...  ...   \n",
       " 2  Protection civile, Sciences de la terre, Tremb...  ...   \n",
       " 3  Mosaïque, Photographie aérienne, Accès à l'inf...  ...   \n",
       " 4  Autochtones, Premières nations, Métis, Affaire...  ...   \n",
       " \n",
       "                          features_properties_contact  \\\n",
       " 0  [{\"individual\": \"null\", \"position\": {\"en\": \"nu...   \n",
       " 1  [{\"individual\": \"null\", \"position\": {\"en\": \"nu...   \n",
       " 2  [{\"individual\": \"Dr. Tiegan Hobbs\", \"position\"...   \n",
       " 3  [{\"individual\": \"null\", \"position\": {\"en\": \"nu...   \n",
       " 4  [{\"individual\": \"Melanie Campbell\", \"position\"...   \n",
       " \n",
       "   features_properties_credits  \\\n",
       " 0                          []   \n",
       " 1                          []   \n",
       " 2                          []   \n",
       " 3                          []   \n",
       " 4                          []   \n",
       " \n",
       "                            features_properties_cited  \\\n",
       " 0  [{\"individual\": \"null\", \"position\": {\"en\": \"nu...   \n",
       " 1  [{\"individual\": \"null\", \"position\": {\"en\": \"nu...   \n",
       " 2  [{\"individual\": \"Nicky Hastings\", \"position\": ...   \n",
       " 3  [{\"individual\": \"null\", \"position\": {\"en\": \"Na...   \n",
       " 4  [{\"individual\": \"null\", \"position\": {\"en\": \"nu...   \n",
       " \n",
       "                      features_properties_distributor  \\\n",
       " 0  [{\"individual\": \"null\", \"position\": {\"en\": \"nu...   \n",
       " 1  [{\"individual\": \"null\", \"position\": {\"en\": \"nu...   \n",
       " 2  [{\"individual\": \"null\", \"position\": {\"en\": \"nu...   \n",
       " 3  [{\"individual\": \"null\", \"position\": {\"en\": \"nu...   \n",
       " 4  [{\"individual\": \"null\", \"position\": {\"en\": \"nu...   \n",
       " \n",
       "                          features_properties_options  \\\n",
       " 0  [{\"url\": \"https://maps-cartes.services.geo.ca/...   \n",
       " 1  [{\"url\": \"https://maps.geogratis.gc.ca/wms/ele...   \n",
       " 2  [{\"url\": \"https://github.com/OpenDRR/earthquak...   \n",
       " 3  [{\"url\": \"https://datacube-prod-data-public.s3...   \n",
       " 4  [{\"url\": \"https://atlas.gc.ca/imaema/en/\", \"pr...   \n",
       " \n",
       "   features_properties_temporalExtent_end_@indeterminatePosition  \\\n",
       " 0                                               <NA>              \n",
       " 1                                               <NA>              \n",
       " 2                                               <NA>              \n",
       " 3                                               <NA>              \n",
       " 4                                               <NA>              \n",
       " \n",
       "   features_properties_temporalExtent_end_#text features_properties_plugins  \\\n",
       " 0                                         <NA>                          []   \n",
       " 1                                         <NA>                          []   \n",
       " 2                                         <NA>                          []   \n",
       " 3                                         <NA>                          []   \n",
       " 4                                         <NA>                          []   \n",
       " \n",
       "   features_properties_sourceSystemName features_popularity  \n",
       " 0                                 <NA>             1250806  \n",
       " 1                                 <NA>              210798  \n",
       " 2                                 <NA>              140088  \n",
       " 3                                 <NA>              120162  \n",
       " 4                                 <NA>              111036  \n",
       " \n",
       " [5 rows x 68 columns])"
      ]
     },
     "execution_count": 3,
     "metadata": {},
     "output_type": "execute_result"
    }
   ],
   "source": [
    "# Display the first few rows and the general information about the data\n",
    "df_raw_info = df_raw.info()\n",
    "df_raw_head = df_raw.head()\n",
    "\n",
    "df_raw_info, df_raw_head"
   ]
  },
  {
   "cell_type": "code",
   "execution_count": 4,
   "metadata": {},
   "outputs": [
    {
     "name": "stdout",
     "output_type": "stream",
     "text": [
      "<class 'pandas.core.frame.DataFrame'>\n",
      "Int64Index: 7343 entries, 0 to 7342\n",
      "Data columns (total 38 columns):\n",
      " #   Column                                       Non-Null Count  Dtype \n",
      "---  ------                                       --------------  ----- \n",
      " 0   features_type                                7343 non-null   string\n",
      " 1   features_geometry_type                       7343 non-null   string\n",
      " 2   features_geometry_coordinates                7343 non-null   string\n",
      " 3   features_properties_id                       7343 non-null   object\n",
      " 4   features_properties_title_en                 7342 non-null   string\n",
      " 5   features_properties_description_en           7343 non-null   string\n",
      " 6   features_properties_keywords_en              6194 non-null   string\n",
      " 7   features_properties_topicCategory            7343 non-null   string\n",
      " 8   features_properties_date_published_text      7322 non-null   string\n",
      " 9   features_properties_date_published_date      7321 non-null   string\n",
      " 10  features_properties_date_created_text        7312 non-null   string\n",
      " 11  features_properties_date_created_date        7312 non-null   string\n",
      " 12  features_properties_spatialRepresentation    7236 non-null   string\n",
      " 13  features_properties_type                     7343 non-null   string\n",
      " 14  features_properties_geometry                 7343 non-null   string\n",
      " 15  features_properties_temporalExtent_begin     7296 non-null   string\n",
      " 16  features_properties_temporalExtent_end       4077 non-null   string\n",
      " 17  features_properties_refSys                   6638 non-null   string\n",
      " 18  features_properties_refSys_version           5761 non-null   string\n",
      " 19  features_properties_status                   7343 non-null   string\n",
      " 20  features_properties_maintenance              7343 non-null   string\n",
      " 21  features_properties_metadataStandard_en      7163 non-null   string\n",
      " 22  features_properties_metadataStandardVersion  7082 non-null   string\n",
      " 23  features_properties_graphicOverview          7343 non-null   string\n",
      " 24  features_properties_useLimits_en             7272 non-null   string\n",
      " 25  features_properties_accessConstraints        6995 non-null   string\n",
      " 26  features_properties_locale_language          7163 non-null   string\n",
      " 27  features_properties_locale_country           7082 non-null   string\n",
      " 28  features_properties_locale_encoding          7162 non-null   string\n",
      " 29  features_properties_language                 7163 non-null   string\n",
      " 30  features_properties_characterSet             7163 non-null   string\n",
      " 31  features_properties_contact                  7343 non-null   string\n",
      " 32  features_properties_credits                  7343 non-null   string\n",
      " 33  features_properties_cited                    7343 non-null   object\n",
      " 34  features_properties_distributor              7343 non-null   object\n",
      " 35  features_properties_options                  7343 non-null   string\n",
      " 36  features_properties_plugins                  7343 non-null   object\n",
      " 37  features_popularity                          7343 non-null   int64 \n",
      "dtypes: int64(1), object(4), string(33)\n",
      "memory usage: 2.2+ MB\n"
     ]
    }
   ],
   "source": [
    "# Remove duplicate rows\n",
    "df_raw.drop_duplicates(inplace=True)\n",
    "\n",
    "# Remove columns with more than 50% missing values\n",
    "threshold = len(df_raw) * 0.5\n",
    "df_raw.dropna(thresh=threshold, axis=1, inplace=True)\n",
    "\n",
    "# Fill missing values\n",
    "# For categorical columns fill with 'Unknown'\n",
    "categorical_cols = df_raw.select_dtypes(include=['object']).columns\n",
    "df_raw[categorical_cols] = df_raw[categorical_cols].fillna('Unknown')\n",
    "\n",
    "# For numerical columns fill with median\n",
    "numerical_cols = df_raw.select_dtypes(include=['int64', 'float64']).columns\n",
    "for col in numerical_cols:\n",
    "    median_value = df_raw[col].median()\n",
    "    df_raw[col].fillna(median_value, inplace=True)\n",
    "\n",
    "# Identify the columns that contain \"_fr\" in their names\n",
    "cols_fr = [col for col in df_raw.columns if '_fr' in col]\n",
    "\n",
    "# Drop these columns\n",
    "df_raw.drop(columns=cols_fr, inplace=True)\n",
    "\n",
    "# Check the result\n",
    "df_raw.info()"
   ]
  },
  {
   "cell_type": "code",
   "execution_count": 5,
   "metadata": {},
   "outputs": [
    {
     "name": "stdout",
     "output_type": "stream",
     "text": [
      "(7343, 20)\n"
     ]
    }
   ],
   "source": [
    "# Subset the data to include only the columns of interest\n",
    "cols =  ['features_properties_id','features_geometry_coordinates', 'features_properties_title_en','features_properties_description_en','features_properties_keywords_en',\n",
    "         'features_properties_topicCategory', 'features_properties_date_published_date', 'features_properties_date_created_date', 'features_properties_temporalExtent_begin',\n",
    "         'features_properties_temporalExtent_end','features_properties_spatialRepresentation','features_properties_type','features_properties_geometry','features_properties_status',\n",
    "         'features_properties_metadataStandard_en','features_properties_metadataStandardVersion','features_properties_graphicOverview', 'features_properties_locale_language', \n",
    "         'features_properties_language','features_popularity']\n",
    "df = df_raw[cols]\n",
    "print(df.shape)"
   ]
  },
  {
   "cell_type": "code",
   "execution_count": 6,
   "metadata": {},
   "outputs": [],
   "source": [
    "df.to_csv('df_raw_cleaned.csv', index=False)"
   ]
  },
  {
   "attachments": {},
   "cell_type": "markdown",
   "metadata": {},
   "source": [
    "## Visualization \n",
    "given the nature of your dataset, which is mostly categorical and textual, we have limited options for numerical or continuous data visualization.\n",
    "\n",
    "* A pie chart of the different categories in the features_properties_spatialRepresentation column.\n",
    "* A pie chart of the different categories in the features_properties_topicCategory column.\n",
    "* A pie chart of the different categories in the features_properties_type column.\n",
    "* A pie chart of the different categories in the features_properties_status column.\n",
    "* A piechart features_properties_metadataStandard_en or features_properties_metadataStandardVersion\n",
    "* A pie chart of the different categories in the features_properties_locale_language column.\n",
    "* A histogram of the features_popularity column.\n",
    "* ?? [Word visual cloud](https://thecleverprogrammer.com/2021/11/11/word-cloud-from-a-pandas-dataframe-in-python/#:~:text=A%20word%20cloud%20is%20a,based%20on%20natural%20language%20processing) of features_properties_title_en, features_properties_description_en, features_properties_keywords_en\n",
    "\n",
    "\n",
    "* ?? Time range from features_properties_temporalExtent_begin and features_properties_temporalExtent_end \n",
    "* A pie chart of the different categories in the features_properties_graphicOverview (Y and N)\n",
    "\n"
   ]
  },
  {
   "cell_type": "code",
   "execution_count": 7,
   "metadata": {},
   "outputs": [
    {
     "name": "stdout",
     "output_type": "stream",
     "text": [
      "<StringArray>\n",
      "[                 'completed; complété',\n",
      " 'historicalArchive; archiveHistorique',\n",
      "                  'onGoing; enContinue',\n",
      "          'Not Available; Indisponible',\n",
      "                    'proposed; proposé',\n",
      "                    'planned; planifié',\n",
      "       'underDevelopment; enProduction',\n",
      "                              'unknown']\n",
      "Length: 8, dtype: string\n",
      "<StringArray>\n",
      "[            'vector; vecteur',                'grid; grille',\n",
      " 'Not Available; Indisponible',                          <NA>,\n",
      "       'textTable; texteTable',                'video; vidéo']\n",
      "Length: 6, dtype: string\n"
     ]
    }
   ],
   "source": [
    "print(df_raw['features_properties_status'].unique())\n",
    "print(df_raw['features_properties_spatialRepresentation'].unique())\n"
   ]
  },
  {
   "cell_type": "code",
   "execution_count": 8,
   "metadata": {},
   "outputs": [
    {
     "name": "stderr",
     "output_type": "stream",
     "text": [
      "C:\\Users\\xcai\\AppData\\Local\\Temp\\ipykernel_11048\\3253786129.py:3: UserWarning: \n",
      "The dash_core_components package is deprecated. Please replace\n",
      "`import dash_core_components as dcc` with `from dash import dcc`\n",
      "  import dash_core_components as dcc\n",
      "C:\\Users\\xcai\\AppData\\Local\\Temp\\ipykernel_11048\\3253786129.py:4: UserWarning: \n",
      "The dash_html_components package is deprecated. Please replace\n",
      "`import dash_html_components as html` with `from dash import html`\n",
      "  import dash_html_components as html\n"
     ]
    }
   ],
   "source": [
    "# pip install dash dash_core_components dash_html_components plotly pandas wordcloud\n",
    "import dash\n",
    "import dash_core_components as dcc\n",
    "import dash_html_components as html\n",
    "import plotly.express as px\n",
    "import pandas as pd\n",
    "import numpy as np\n",
    "from wordcloud import WordCloud\n",
    "from wordcloud import ImageColorGenerator\n",
    "from wordcloud import STOPWORDS\n",
    "from PIL import Image\n",
    "import io\n",
    "import base64\n",
    "\n",
    "import nltk\n",
    "from nltk.corpus import stopwords          # module for stop words that come with NLTK\n",
    "from nltk.stem import PorterStemmer        # module for stemming\n",
    "from nltk.tokenize import word_tokenize   # module for tokenizing strings                            # for string operations\n",
    "import re"
   ]
  },
  {
   "attachments": {},
   "cell_type": "markdown",
   "metadata": {},
   "source": [
    "For the interactive dashboard, we will include the following features. \n",
    "1.  A section showing the overall description of the data \n",
    "2. A section showing the most common topic categories, statuses using bar chars,  showing the spatial representations, feature types, , metadata standards, locale languages, and languages using pie chart \n",
    "3. Two bar charts showing the years in which the most features were published and created, with a slider or input box to adjust the range of years displayed.\n",
    "4. A histogram showing the distribution of the popularity scores, with sliders or input boxes to adjust the range of scores displayed.\n",
    "5. A word visual cloud to show the condatinate of of features_properties_title_en, features_properties_description_en, features_properties_keywords_en\n"
   ]
  },
  {
   "cell_type": "code",
   "execution_count": 9,
   "metadata": {},
   "outputs": [],
   "source": [
    "# Create dataframes for the visuals\n",
    "df_topic = df['features_properties_topicCategory'].value_counts().reset_index().head(10)\n",
    "df_spatial = df['features_properties_spatialRepresentation'].value_counts().reset_index()\n",
    "df_status = df['features_properties_status'].value_counts().reset_index().head(10)\n",
    "df_type = df['features_properties_type'].value_counts().reset_index().head(10)\n",
    "df_standard = df['features_properties_metadataStandard_en'].value_counts().reset_index().head(10)\n",
    "#TODO language\n",
    "#TODO popularity slider \n",
    "#TODO temporal extent slider\n",
    "df_language = df['features_properties_language'].value_counts().reset_index().head(10)"
   ]
  },
  {
   "cell_type": "code",
   "execution_count": 10,
   "metadata": {},
   "outputs": [
    {
     "name": "stderr",
     "output_type": "stream",
     "text": [
      "C:\\Users\\xcai\\AppData\\Local\\Temp\\ipykernel_11048\\866143872.py:7: SettingWithCopyWarning: \n",
      "A value is trying to be set on a copy of a slice from a DataFrame.\n",
      "Try using .loc[row_indexer,col_indexer] = value instead\n",
      "\n",
      "See the caveats in the documentation: https://pandas.pydata.org/pandas-docs/stable/user_guide/indexing.html#returning-a-view-versus-a-copy\n",
      "  df['year_published'] = df['features_properties_date_published_date'].apply(extract_year)\n",
      "C:\\Users\\xcai\\AppData\\Local\\Temp\\ipykernel_11048\\866143872.py:8: SettingWithCopyWarning: \n",
      "A value is trying to be set on a copy of a slice from a DataFrame.\n",
      "Try using .loc[row_indexer,col_indexer] = value instead\n",
      "\n",
      "See the caveats in the documentation: https://pandas.pydata.org/pandas-docs/stable/user_guide/indexing.html#returning-a-view-versus-a-copy\n",
      "  df['year_created'] = df['features_properties_date_created_date'].apply(extract_year)\n"
     ]
    }
   ],
   "source": [
    "# Define a function to extract year from date strings\n",
    "def extract_year(date_str):\n",
    "    if isinstance(date_str, str):\n",
    "        return date_str.split('-')[0]\n",
    "    return np.nan\n",
    "# Apply the function to the 'features_properties_date_published_date' and 'features_properties_date_created_date' columns\n",
    "df['year_published'] = df['features_properties_date_published_date'].apply(extract_year)\n",
    "df['year_created'] = df['features_properties_date_created_date'].apply(extract_year)\n",
    "df_year_published = df['year_published'].value_counts().reset_index().head(10)\n",
    "df_year_created = df['year_created'].value_counts().reset_index().head(10)"
   ]
  },
  {
   "cell_type": "code",
   "execution_count": 11,
   "metadata": {},
   "outputs": [],
   "source": [
    "# Create the visuals\n",
    "fig_topic = px.bar(df_topic, x='index', y='features_properties_topicCategory', title='Topic 10 Categories')\n",
    "fig_status = px.bar(df_status, x='index', y='features_properties_status', title='Top 10 Status')\n",
    "fig_spatial = px.pie(df_spatial, values='features_properties_spatialRepresentation', names='index', title='Spatial Representations')\n",
    "fig_type = px.pie(df_type, values='features_properties_type', names='index', title='Top 10 Feature  Types')\n",
    "fig_standard = px.pie(df_standard, values='features_properties_metadataStandard_en', names='index', title='Metadata Standards of the records')\n",
    "fig_language= px.pie(df_language, values='features_properties_language', names='index', title='Languages of the records')\n",
    "fig_year_published = px.bar(df_year_published, x='index', y='year_published', title='Top 10 Years of Published Date')\n",
    "fig_year_created = px.bar(df_year_created, x='index', y='year_created', title='Top 10 Years of Created Date')"
   ]
  },
  {
   "cell_type": "code",
   "execution_count": 14,
   "metadata": {},
   "outputs": [],
   "source": [
    "# Function to create wordcloud \n",
    "def create_word_cloud(df):\n",
    "    text = \" \".join(i for i in df)\n",
    "    print('Word count for all the titles are {}'. format(len(text)))\n",
    "    stopwords = set(STOPWORDS)\n",
    "    wordcloud = WordCloud(width=800, height=400, background_color='white').generate(text)\n",
    "    return wordcloud.to_image()\n"
   ]
  },
  {
   "cell_type": "code",
   "execution_count": 15,
   "metadata": {},
   "outputs": [
    {
     "name": "stdout",
     "output_type": "stream",
     "text": [
      "Word count for all the titles are 395152\n"
     ]
    }
   ],
   "source": [
    "word_cloud_image = create_word_cloud(df_clean['features_properties_title_en'])  \n",
    "buffered = io.BytesIO()\n",
    "word_cloud_image.save(buffered, format=\"PNG\")\n",
    "img_str = base64.b64encode(buffered.getvalue()).decode()\n"
   ]
  },
  {
   "cell_type": "code",
   "execution_count": 22,
   "metadata": {},
   "outputs": [],
   "source": [
    "# Initialize the Dash app\n",
    "app = dash.Dash(__name__)"
   ]
  },
  {
   "cell_type": "code",
   "execution_count": 23,
   "metadata": {},
   "outputs": [],
   "source": [
    "# Define the layout\n",
    "app.layout = html.Div(children=[\n",
    "    html.H1(children='Dashboard'),\n",
    "\n",
    "    html.Div(children='''\n",
    "        This dashboard shows the overall description of the data.\n",
    "    '''),\n",
    "\n",
    "    dcc.Graph(figure=fig_topic),\n",
    "    dcc.Graph(figure=fig_status),\n",
    "    dcc.Graph(figure=fig_spatial),\n",
    "    dcc.Graph(figure=fig_type),\n",
    "    dcc.Graph(figure=fig_standard),\n",
    "    dcc.Graph(figure=fig_language),\n",
    "    dcc.Graph(figure=fig_year_published),\n",
    "    dcc.Graph(figure=fig_year_created),\n",
    "    \n",
    "    \n",
    "    html.Div(children=[\n",
    "        html.Img(src='data:image/png;base64,{}'.format(img_str))\n",
    "    ])\n",
    "])"
   ]
  },
  {
   "cell_type": "code",
   "execution_count": 24,
   "metadata": {},
   "outputs": [
    {
     "data": {
      "text/html": [
       "\n",
       "        <iframe\n",
       "            width=\"100%\"\n",
       "            height=\"650\"\n",
       "            src=\"http://127.0.0.1:8050/\"\n",
       "            frameborder=\"0\"\n",
       "            allowfullscreen\n",
       "            \n",
       "        ></iframe>\n",
       "        "
      ],
      "text/plain": [
       "<IPython.lib.display.IFrame at 0x164d014fcd0>"
      ]
     },
     "metadata": {},
     "output_type": "display_data"
    }
   ],
   "source": [
    "# Run the app\n",
    "app.run_server(debug=True)"
   ]
  },
  {
   "cell_type": "code",
   "execution_count": null,
   "metadata": {},
   "outputs": [],
   "source": []
  }
 ],
 "metadata": {
  "kernelspec": {
   "display_name": "DS",
   "language": "python",
   "name": "python3"
  },
  "language_info": {
   "codemirror_mode": {
    "name": "ipython",
    "version": 3
   },
   "file_extension": ".py",
   "mimetype": "text/x-python",
   "name": "python",
   "nbconvert_exporter": "python",
   "pygments_lexer": "ipython3",
   "version": "3.8.13"
  },
  "orig_nbformat": 4
 },
 "nbformat": 4,
 "nbformat_minor": 2
}
