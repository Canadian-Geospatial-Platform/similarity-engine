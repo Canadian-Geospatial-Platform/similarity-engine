{
 "cells": [
  {
   "attachments": {},
   "cell_type": "markdown",
   "id": "52b29741",
   "metadata": {},
   "source": [
    "# Preprocessing\n",
    "\n",
    "In this Jupyter Notebook, we will  preprocess the metadata parquet file for similarity analysis. We willuse [NLTK](http://www.nltk.org) package to perform a preprocessing pipeline for the dataset "
   ]
  },
  {
   "attachments": {},
   "cell_type": "markdown",
   "id": "04f834a6",
   "metadata": {},
   "source": [
    "## Setup\n",
    "\n",
    "We will perform similairy analysis on metadata records using the [Natural Language Toolkit (NLTK)](http://www.nltk.org/howto/twitter.html) package, an open-source Python library for natural language processing. It has modules for collecting, handling, and processing the metadata records. \n",
    "\n",
    "The data used contains metadata information for data records on geo.ca.  This data is saved in a S3 bucekt on dev enironment - webpresence-geocore-geojson-to-parquet-dev. "
   ]
  },
  {
   "cell_type": "code",
   "execution_count": 26,

   "id": "065c3508",
   "metadata": {},
   "outputs": [],
   "source": [
    "import boto3\n",
    "import logging \n",
    "from botocore.exceptions import ClientError\n",
    "\n",
    "import matplotlib.pyplot as plt \n",
    "\n",
    "import pandas as pd \n",
    "import numpy as np\n",
    "import io\n",
    "import os \n"
   ]
  },
  {
   "attachments": {},
   "cell_type": "markdown",
   "id": "40e39427",
   "metadata": {},
   "source": [
    "## About the metadata parquet dataset\n",
    "\n",
    "The metadata parquet dataset contains the properties identitied in the [GeoCore format](https://canadian-geospatial-platform.github.io/geocore/). It contains 7000+ records, each has an uuid. We need to download abd open the data saved from S3 in the workspace (or in your local computer). \n"
   ]
  },
  {
   "cell_type": "code",
   "execution_count": 2,
   "id": "faf2ee70",
   "metadata": {},
   "outputs": [
    {
     "name": "stdout",
     "output_type": "stream",
     "text": [
      "Loading records.parquet from webpresence-geocore-geojson-to-parquet-dev to pandas dataframe\n"
     ]
    }
   ],
   "source": [
    "# Function to read the parquet file as pandas dataframe \n",
    "def open_S3_file_as_df(bucket_name, file_name):\n",
    "    \"\"\"Open a S3 parquet file from bucket and filename and return the parquet as pandas dataframe\n",
    "    :param bucket_name: Bucket name\n",
    "    :param file_name: Specific file name to open\n",
    "    :return: body of the file as a string\n",
    "    \"\"\"\n",
    "    try: \n",
    "        s3 = boto3.resource('s3')\n",
    "        object = s3.Object(bucket_name, file_name)\n",
    "        body = object.get()['Body'].read()\n",
    "        df = pd.read_parquet(io.BytesIO(body))\n",
    "        print(f'Loading {file_name} from {bucket_name} to pandas dataframe')\n",
    "        return df\n",
    "    except ClientError as e:\n",
    "        logging.error(e)\n",
    "        return e\n",
    "file_name = \"records.parquet\"\n",
    "bucket_name = \"webpresence-geocore-geojson-to-parquet-dev\"\n",
    "df = open_S3_file_as_df(bucket_name, file_name)"
   ]
  },
  {
   "attachments": {},
   "cell_type": "markdown",
   "id": "42864308",
   "metadata": {},
   "source": [
    "We can print a few examples from the metadata record dataset to see what information it contains. \n",
    "\n",
    "Explore the dataset structure, including its shape, column names, and datatype.  \n"
   ]
  },
  {
   "cell_type": "code",
   "execution_count": 28,
   "id": "e7b784fa",
   "metadata": {},
   "outputs": [
    {
     "name": "stdout",
     "output_type": "stream",
     "text": [
      "<class 'pandas.core.frame.DataFrame'>\n",
      "RangeIndex: 7343 entries, 0 to 7342\n",
      "Data columns (total 68 columns):\n",
      " #   Column                                                         Non-Null Count  Dtype \n",
      "---  ------                                                         --------------  ----- \n",
      " 0   features_type                                                  7343 non-null   string\n",
      " 1   features_geometry_type                                         7343 non-null   string\n",
      " 2   features_geometry_coordinates                                  7343 non-null   string\n",
      " 3   features_properties_id                                         7343 non-null   object\n",
      " 4   features_properties_title_en                                   7342 non-null   string\n",
      " 5   features_properties_title_fr                                   7342 non-null   string\n",
      " 6   features_properties_description_en                             7343 non-null   string\n",
      " 7   features_properties_description_fr                             7343 non-null   string\n",
      " 8   features_properties_keywords_en                                6194 non-null   string\n",
      " 9   features_properties_keywords_fr                                6194 non-null   string\n",
      " 10  features_properties_topicCategory                              7343 non-null   string\n",
      " 11  features_properties_parentIdentifier                           821 non-null    string\n",
      " 12  features_properties_date_published_text                        7322 non-null   string\n",
      " 13  features_properties_date_published_date                        7321 non-null   string\n",
      " 14  features_properties_date_created_text                          7312 non-null   string\n",
      " 15  features_properties_date_created_date                          7312 non-null   string\n",
      " 16  features_properties_date_revision_text                         1317 non-null   string\n",
      " 17  features_properties_date_revision_date                         1317 non-null   string\n",
      " 18  features_properties_date_notavailable_text                     1149 non-null   string\n",
      " 19  features_properties_date_notavailable_date                     1149 non-null   string\n",
      " 20  features_properties_date_inforce_text                          1149 non-null   string\n",
      " 21  features_properties_date_inforce_date                          1149 non-null   string\n",
      " 22  features_properties_date_adopted_text                          1149 non-null   string\n",
      " 23  features_properties_date_adopted_date                          1149 non-null   string\n",
      " 24  features_properties_date_deprecated_text                       1149 non-null   string\n",
      " 25  features_properties_date_deprecated_date                       1149 non-null   string\n",
      " 26  features_properties_date_superceded_text                       1149 non-null   string\n",
      " 27  features_properties_date_superceded_date                       1149 non-null   string\n",
      " 28  features_properties_spatialRepresentation                      7236 non-null   string\n",
      " 29  features_properties_type                                       7343 non-null   string\n",
      " 30  features_properties_geometry                                   7343 non-null   string\n",
      " 31  features_properties_temporalExtent_begin                       7296 non-null   string\n",
      " 32  features_properties_temporalExtent_end                         4077 non-null   string\n",
      " 33  features_properties_refSys                                     6638 non-null   string\n",
      " 34  features_properties_refSys_version                             5761 non-null   string\n",
      " 35  features_properties_status                                     7343 non-null   string\n",
      " 36  features_properties_maintenance                                7343 non-null   string\n",
      " 37  features_properties_metadataStandard_en                        7163 non-null   string\n",
      " 38  features_properties_metadataStandard_fr                        7163 non-null   string\n",
      " 39  features_properties_metadataStandardVersion                    7082 non-null   string\n",
      " 40  features_properties_graphicOverview                            7343 non-null   string\n",
      " 41  features_properties_distributionFormat_name                    1957 non-null   string\n",
      " 42  features_properties_distributionFormat_format                  1957 non-null   string\n",
      " 43  features_properties_useLimits_en                               7272 non-null   string\n",
      " 44  features_properties_useLimits_fr                               7272 non-null   string\n",
      " 45  features_properties_accessConstraints                          6995 non-null   string\n",
      " 46  features_properties_otherConstraints_en                        1246 non-null   string\n",
      " 47  features_properties_otherConstraints_fr                        1246 non-null   string\n",
      " 48  features_properties_dateStamp                                  2823 non-null   string\n",
      " 49  features_properties_dataSetURI                                 1149 non-null   string\n",
      " 50  features_properties_locale_language                            7163 non-null   string\n",
      " 51  features_properties_locale_country                             7082 non-null   string\n",
      " 52  features_properties_locale_encoding                            7162 non-null   string\n",
      " 53  features_properties_language                                   7163 non-null   string\n",
      " 54  features_properties_characterSet                               7163 non-null   string\n",
      " 55  features_properties_environmentDescription                     1196 non-null   string\n",
      " 56  features_properties_supplementalInformation_en                 1388 non-null   string\n",
      " 57  features_properties_supplementalInformation_fr                 1388 non-null   string\n",
      " 58  features_properties_contact                                    7343 non-null   string\n",
      " 59  features_properties_credits                                    7343 non-null   string\n",
      " 60  features_properties_cited                                      7343 non-null   object\n",
      " 61  features_properties_distributor                                7343 non-null   object\n",
      " 62  features_properties_options                                    7343 non-null   string\n",
      " 63  features_properties_temporalExtent_end_@indeterminatePosition  25 non-null     string\n",
      " 64  features_properties_temporalExtent_end_#text                   22 non-null     string\n",
      " 65  features_properties_plugins                                    7343 non-null   object\n",
      " 66  features_properties_sourceSystemName                           1149 non-null   string\n",
      " 67  features_popularity                                            7343 non-null   int64 \n",
      "dtypes: int64(1), object(4), string(63)\n",
      "memory usage: 3.8+ MB\n"
     ]
    },
    {
     "data": {
      "text/html": [
       "<div>\n",
       "<style scoped>\n",
       "    .dataframe tbody tr th:only-of-type {\n",
       "        vertical-align: middle;\n",
       "    }\n",
       "\n",
       "    .dataframe tbody tr th {\n",
       "        vertical-align: top;\n",
       "    }\n",
       "\n",
       "    .dataframe thead th {\n",
       "        text-align: right;\n",
       "    }\n",
       "</style>\n",
       "<table border=\"1\" class=\"dataframe\">\n",
       "  <thead>\n",
       "    <tr style=\"text-align: right;\">\n",
       "      <th></th>\n",
       "      <th>features_type</th>\n",
       "      <th>features_geometry_type</th>\n",
       "      <th>features_geometry_coordinates</th>\n",
       "      <th>features_properties_id</th>\n",
       "      <th>features_properties_title_en</th>\n",
       "      <th>features_properties_title_fr</th>\n",
       "      <th>features_properties_description_en</th>\n",
       "      <th>features_properties_description_fr</th>\n",
       "      <th>features_properties_keywords_en</th>\n",
       "      <th>features_properties_keywords_fr</th>\n",
       "      <th>...</th>\n",
       "      <th>features_properties_contact</th>\n",
       "      <th>features_properties_credits</th>\n",
       "      <th>features_properties_cited</th>\n",
       "      <th>features_properties_distributor</th>\n",
       "      <th>features_properties_options</th>\n",
       "      <th>features_properties_temporalExtent_end_@indeterminatePosition</th>\n",
       "      <th>features_properties_temporalExtent_end_#text</th>\n",
       "      <th>features_properties_plugins</th>\n",
       "      <th>features_properties_sourceSystemName</th>\n",
       "      <th>features_popularity</th>\n",
       "    </tr>\n",
       "  </thead>\n",
       "  <tbody>\n",
       "    <tr>\n",
       "      <th>0</th>\n",
       "      <td>Feature</td>\n",
       "      <td>Polygon</td>\n",
       "      <td>[[[-141.003, 41.6755], [-52.6174, 41.6755], [-...</td>\n",
       "      <td>000183ed-8864-42f0-ae43-c4313a860720</td>\n",
       "      <td>Principal Mineral Areas, Producing Mines, and ...</td>\n",
       "      <td>Principales régions minières, principales mine...</td>\n",
       "      <td>This dataset is produced and published annuall...</td>\n",
       "      <td>Ce jeu de données est produit et publié annuel...</td>\n",
       "      <td>mineralization, mineral occurrences, mines, hy...</td>\n",
       "      <td>minéralisation, indices minéralisés, mines, hy...</td>\n",
       "      <td>...</td>\n",
       "      <td>[{\"individual\": \"null\", \"position\": {\"en\": \"nu...</td>\n",
       "      <td>[]</td>\n",
       "      <td>[{\"individual\": \"null\", \"position\": {\"en\": \"nu...</td>\n",
       "      <td>[{\"individual\": \"null\", \"position\": {\"en\": \"nu...</td>\n",
       "      <td>[{\"url\": \"https://maps-cartes.services.geo.ca/...</td>\n",
       "      <td>&lt;NA&gt;</td>\n",
       "      <td>&lt;NA&gt;</td>\n",
       "      <td>[]</td>\n",
       "      <td>&lt;NA&gt;</td>\n",
       "      <td>1250806</td>\n",
       "    </tr>\n",
       "    <tr>\n",
       "      <th>1</th>\n",
       "      <td>Feature</td>\n",
       "      <td>Polygon</td>\n",
       "      <td>[[[-142, 41], [-52, 41], [-52, 84], [-142, 84]...</td>\n",
       "      <td>7f245e4d-76c2-4caa-951a-45d1d2051333</td>\n",
       "      <td>Canadian Digital Elevation Model, 1945-2011</td>\n",
       "      <td>Modèle numérique d'élévation du Canada, 1945-2011</td>\n",
       "      <td>This collection is a legacy product that is no...</td>\n",
       "      <td>Ce produit fait maintenant partie du patrimoin...</td>\n",
       "      <td>Canada, Earth Sciences, elevation, relief, geo...</td>\n",
       "      <td>Canada, Sciences de la Terre, élévation, relie...</td>\n",
       "      <td>...</td>\n",
       "      <td>[{\"individual\": \"null\", \"position\": {\"en\": \"nu...</td>\n",
       "      <td>[]</td>\n",
       "      <td>[{\"individual\": \"null\", \"position\": {\"en\": \"nu...</td>\n",
       "      <td>[{\"individual\": \"null\", \"position\": {\"en\": \"nu...</td>\n",
       "      <td>[{\"url\": \"https://maps.geogratis.gc.ca/wms/ele...</td>\n",
       "      <td>&lt;NA&gt;</td>\n",
       "      <td>&lt;NA&gt;</td>\n",
       "      <td>[]</td>\n",
       "      <td>&lt;NA&gt;</td>\n",
       "      <td>210798</td>\n",
       "    </tr>\n",
       "    <tr>\n",
       "      <th>2</th>\n",
       "      <td>Feature</td>\n",
       "      <td>Polygon</td>\n",
       "      <td>[[[-141.003, 41.6755], [-52.6174, 41.6755], [-...</td>\n",
       "      <td>085024ac-5a48-427a-a2ea-d62af73f2142</td>\n",
       "      <td>Canada's National Earthquake Scenario Catalogue</td>\n",
       "      <td>Catalogue national de scénarios de tremblement...</td>\n",
       "      <td>The National Earthquake Scenario Catalogue, pr...</td>\n",
       "      <td>Le dépôt est utilisé pour l’élaboration du cat...</td>\n",
       "      <td>Emergency preparedness, Earth sciences, Earthq...</td>\n",
       "      <td>Protection civile, Sciences de la terre, Tremb...</td>\n",
       "      <td>...</td>\n",
       "      <td>[{\"individual\": \"Dr. Tiegan Hobbs\", \"position\"...</td>\n",
       "      <td>[]</td>\n",
       "      <td>[{\"individual\": \"Nicky Hastings\", \"position\": ...</td>\n",
       "      <td>[{\"individual\": \"null\", \"position\": {\"en\": \"nu...</td>\n",
       "      <td>[{\"url\": \"https://github.com/OpenDRR/earthquak...</td>\n",
       "      <td>&lt;NA&gt;</td>\n",
       "      <td>&lt;NA&gt;</td>\n",
       "      <td>[]</td>\n",
       "      <td>&lt;NA&gt;</td>\n",
       "      <td>140088</td>\n",
       "    </tr>\n",
       "    <tr>\n",
       "      <th>3</th>\n",
       "      <td>Feature</td>\n",
       "      <td>Polygon</td>\n",
       "      <td>[[[-104.75571511, 50.42392886], [-104.56356008...</td>\n",
       "      <td>03ccfb5c-a06e-43e3-80fd-09d4f8f69703</td>\n",
       "      <td>Temporal Series of the National Air Photo Libr...</td>\n",
       "      <td>Série temporelle de la photothèque nationale d...</td>\n",
       "      <td>Note: To visualize the data in the viewer, zoo...</td>\n",
       "      <td>Note: Pour visualiser les données dans l’outil...</td>\n",
       "      <td>Mosaic, Aerial photography, Access to informat...</td>\n",
       "      <td>Mosaïque, Photographie aérienne, Accès à l'inf...</td>\n",
       "      <td>...</td>\n",
       "      <td>[{\"individual\": \"null\", \"position\": {\"en\": \"nu...</td>\n",
       "      <td>[]</td>\n",
       "      <td>[{\"individual\": \"null\", \"position\": {\"en\": \"Na...</td>\n",
       "      <td>[{\"individual\": \"null\", \"position\": {\"en\": \"nu...</td>\n",
       "      <td>[{\"url\": \"https://datacube-prod-data-public.s3...</td>\n",
       "      <td>&lt;NA&gt;</td>\n",
       "      <td>&lt;NA&gt;</td>\n",
       "      <td>[]</td>\n",
       "      <td>&lt;NA&gt;</td>\n",
       "      <td>120162</td>\n",
       "    </tr>\n",
       "    <tr>\n",
       "      <th>4</th>\n",
       "      <td>Feature</td>\n",
       "      <td>Polygon</td>\n",
       "      <td>[[[-141.003, 41.6755], [-52.6174, 41.6755], [-...</td>\n",
       "      <td>488faf70-b50b-4749-ac1c-a1fd44e06f11</td>\n",
       "      <td>Indigenous Mining Agreements</td>\n",
       "      <td>Ententes minières autochtones</td>\n",
       "      <td>The Indigenous Mining Agreements dataset provi...</td>\n",
       "      <td>Les données des ententes minières autochtones ...</td>\n",
       "      <td>Indigenous, First Nations, Métis, Indigenous a...</td>\n",
       "      <td>Autochtones, Premières nations, Métis, Affaire...</td>\n",
       "      <td>...</td>\n",
       "      <td>[{\"individual\": \"Melanie Campbell\", \"position\"...</td>\n",
       "      <td>[]</td>\n",
       "      <td>[{\"individual\": \"null\", \"position\": {\"en\": \"nu...</td>\n",
       "      <td>[{\"individual\": \"null\", \"position\": {\"en\": \"nu...</td>\n",
       "      <td>[{\"url\": \"https://atlas.gc.ca/imaema/en/\", \"pr...</td>\n",
       "      <td>&lt;NA&gt;</td>\n",
       "      <td>&lt;NA&gt;</td>\n",
       "      <td>[]</td>\n",
       "      <td>&lt;NA&gt;</td>\n",
       "      <td>111036</td>\n",
       "    </tr>\n",
       "  </tbody>\n",
       "</table>\n",
       "<p>5 rows × 68 columns</p>\n",
       "</div>"
      ],
      "text/plain": [
       "  features_type features_geometry_type  \\\n",
       "0       Feature                Polygon   \n",
       "1       Feature                Polygon   \n",
       "2       Feature                Polygon   \n",
       "3       Feature                Polygon   \n",
       "4       Feature                Polygon   \n",
       "\n",
       "                       features_geometry_coordinates  \\\n",
       "0  [[[-141.003, 41.6755], [-52.6174, 41.6755], [-...   \n",
       "1  [[[-142, 41], [-52, 41], [-52, 84], [-142, 84]...   \n",
       "2  [[[-141.003, 41.6755], [-52.6174, 41.6755], [-...   \n",
       "3  [[[-104.75571511, 50.42392886], [-104.56356008...   \n",
       "4  [[[-141.003, 41.6755], [-52.6174, 41.6755], [-...   \n",
       "\n",
       "                 features_properties_id  \\\n",
       "0  000183ed-8864-42f0-ae43-c4313a860720   \n",
       "1  7f245e4d-76c2-4caa-951a-45d1d2051333   \n",
       "2  085024ac-5a48-427a-a2ea-d62af73f2142   \n",
       "3  03ccfb5c-a06e-43e3-80fd-09d4f8f69703   \n",
       "4  488faf70-b50b-4749-ac1c-a1fd44e06f11   \n",
       "\n",
       "                        features_properties_title_en  \\\n",
       "0  Principal Mineral Areas, Producing Mines, and ...   \n",
       "1        Canadian Digital Elevation Model, 1945-2011   \n",
       "2    Canada's National Earthquake Scenario Catalogue   \n",
       "3  Temporal Series of the National Air Photo Libr...   \n",
       "4                       Indigenous Mining Agreements   \n",
       "\n",
       "                        features_properties_title_fr  \\\n",
       "0  Principales régions minières, principales mine...   \n",
       "1  Modèle numérique d'élévation du Canada, 1945-2011   \n",
       "2  Catalogue national de scénarios de tremblement...   \n",
       "3  Série temporelle de la photothèque nationale d...   \n",
       "4                      Ententes minières autochtones   \n",
       "\n",
       "                  features_properties_description_en  \\\n",
       "0  This dataset is produced and published annuall...   \n",
       "1  This collection is a legacy product that is no...   \n",
       "2  The National Earthquake Scenario Catalogue, pr...   \n",
       "3  Note: To visualize the data in the viewer, zoo...   \n",
       "4  The Indigenous Mining Agreements dataset provi...   \n",
       "\n",
       "                  features_properties_description_fr  \\\n",
       "0  Ce jeu de données est produit et publié annuel...   \n",
       "1  Ce produit fait maintenant partie du patrimoin...   \n",
       "2  Le dépôt est utilisé pour l’élaboration du cat...   \n",
       "3  Note: Pour visualiser les données dans l’outil...   \n",
       "4  Les données des ententes minières autochtones ...   \n",
       "\n",
       "                     features_properties_keywords_en  \\\n",
       "0  mineralization, mineral occurrences, mines, hy...   \n",
       "1  Canada, Earth Sciences, elevation, relief, geo...   \n",
       "2  Emergency preparedness, Earth sciences, Earthq...   \n",
       "3  Mosaic, Aerial photography, Access to informat...   \n",
       "4  Indigenous, First Nations, Métis, Indigenous a...   \n",
       "\n",
       "                     features_properties_keywords_fr  ...  \\\n",
       "0  minéralisation, indices minéralisés, mines, hy...  ...   \n",
       "1  Canada, Sciences de la Terre, élévation, relie...  ...   \n",
       "2  Protection civile, Sciences de la terre, Tremb...  ...   \n",
       "3  Mosaïque, Photographie aérienne, Accès à l'inf...  ...   \n",
       "4  Autochtones, Premières nations, Métis, Affaire...  ...   \n",
       "\n",
       "                         features_properties_contact  \\\n",
       "0  [{\"individual\": \"null\", \"position\": {\"en\": \"nu...   \n",
       "1  [{\"individual\": \"null\", \"position\": {\"en\": \"nu...   \n",
       "2  [{\"individual\": \"Dr. Tiegan Hobbs\", \"position\"...   \n",
       "3  [{\"individual\": \"null\", \"position\": {\"en\": \"nu...   \n",
       "4  [{\"individual\": \"Melanie Campbell\", \"position\"...   \n",
       "\n",
       "  features_properties_credits  \\\n",
       "0                          []   \n",
       "1                          []   \n",
       "2                          []   \n",
       "3                          []   \n",
       "4                          []   \n",
       "\n",
       "                           features_properties_cited  \\\n",
       "0  [{\"individual\": \"null\", \"position\": {\"en\": \"nu...   \n",
       "1  [{\"individual\": \"null\", \"position\": {\"en\": \"nu...   \n",
       "2  [{\"individual\": \"Nicky Hastings\", \"position\": ...   \n",
       "3  [{\"individual\": \"null\", \"position\": {\"en\": \"Na...   \n",
       "4  [{\"individual\": \"null\", \"position\": {\"en\": \"nu...   \n",
       "\n",
       "                     features_properties_distributor  \\\n",
       "0  [{\"individual\": \"null\", \"position\": {\"en\": \"nu...   \n",
       "1  [{\"individual\": \"null\", \"position\": {\"en\": \"nu...   \n",
       "2  [{\"individual\": \"null\", \"position\": {\"en\": \"nu...   \n",
       "3  [{\"individual\": \"null\", \"position\": {\"en\": \"nu...   \n",
       "4  [{\"individual\": \"null\", \"position\": {\"en\": \"nu...   \n",
       "\n",
       "                         features_properties_options  \\\n",
       "0  [{\"url\": \"https://maps-cartes.services.geo.ca/...   \n",
       "1  [{\"url\": \"https://maps.geogratis.gc.ca/wms/ele...   \n",
       "2  [{\"url\": \"https://github.com/OpenDRR/earthquak...   \n",
       "3  [{\"url\": \"https://datacube-prod-data-public.s3...   \n",
       "4  [{\"url\": \"https://atlas.gc.ca/imaema/en/\", \"pr...   \n",
       "\n",
       "  features_properties_temporalExtent_end_@indeterminatePosition  \\\n",
       "0                                               <NA>              \n",
       "1                                               <NA>              \n",
       "2                                               <NA>              \n",
       "3                                               <NA>              \n",
       "4                                               <NA>              \n",
       "\n",
       "  features_properties_temporalExtent_end_#text features_properties_plugins  \\\n",
       "0                                         <NA>                          []   \n",
       "1                                         <NA>                          []   \n",
       "2                                         <NA>                          []   \n",
       "3                                         <NA>                          []   \n",
       "4                                         <NA>                          []   \n",
       "\n",
       "  features_properties_sourceSystemName features_popularity  \n",
       "0                                 <NA>             1250806  \n",
       "1                                 <NA>              210798  \n",
       "2                                 <NA>              140088  \n",
       "3                                 <NA>              120162  \n",
       "4                                 <NA>              111036  \n",
       "\n",
       "[5 rows x 68 columns]"
      ]
     },
     "execution_count": 28,
     "metadata": {},
     "output_type": "execute_result"
    }
   ],
   "source": [
    "df.info() \n",
    "df.head()"
   ]
  },
  {
   "cell_type": "code",
   "execution_count": 29,
   "id": "5dd728e6",
   "metadata": {},
   "outputs": [
    {
     "name": "stdout",
     "output_type": "stream",
     "text": [
      "The shape of the raw metadata parquet dataset is (7343, 68)\n",
      "The column names are ['features_type', 'features_geometry_type', 'features_geometry_coordinates', 'features_properties_id', 'features_properties_title_en', 'features_properties_title_fr', 'features_properties_description_en', 'features_properties_description_fr', 'features_properties_keywords_en', 'features_properties_keywords_fr', 'features_properties_topicCategory', 'features_properties_parentIdentifier', 'features_properties_date_published_text', 'features_properties_date_published_date', 'features_properties_date_created_text', 'features_properties_date_created_date', 'features_properties_date_revision_text', 'features_properties_date_revision_date', 'features_properties_date_notavailable_text', 'features_properties_date_notavailable_date', 'features_properties_date_inforce_text', 'features_properties_date_inforce_date', 'features_properties_date_adopted_text', 'features_properties_date_adopted_date', 'features_properties_date_deprecated_text', 'features_properties_date_deprecated_date', 'features_properties_date_superceded_text', 'features_properties_date_superceded_date', 'features_properties_spatialRepresentation', 'features_properties_type', 'features_properties_geometry', 'features_properties_temporalExtent_begin', 'features_properties_temporalExtent_end', 'features_properties_refSys', 'features_properties_refSys_version', 'features_properties_status', 'features_properties_maintenance', 'features_properties_metadataStandard_en', 'features_properties_metadataStandard_fr', 'features_properties_metadataStandardVersion', 'features_properties_graphicOverview', 'features_properties_distributionFormat_name', 'features_properties_distributionFormat_format', 'features_properties_useLimits_en', 'features_properties_useLimits_fr', 'features_properties_accessConstraints', 'features_properties_otherConstraints_en', 'features_properties_otherConstraints_fr', 'features_properties_dateStamp', 'features_properties_dataSetURI', 'features_properties_locale_language', 'features_properties_locale_country', 'features_properties_locale_encoding', 'features_properties_language', 'features_properties_characterSet', 'features_properties_environmentDescription', 'features_properties_supplementalInformation_en', 'features_properties_supplementalInformation_fr', 'features_properties_contact', 'features_properties_credits', 'features_properties_cited', 'features_properties_distributor', 'features_properties_options', 'features_properties_temporalExtent_end_@indeterminatePosition', 'features_properties_temporalExtent_end_#text', 'features_properties_plugins', 'features_properties_sourceSystemName', 'features_popularity']\n",
      "\n",
      " The columns that have int64 as data tyep is features_popularity    int64\n",
      "dtype: object\n",
      "\n",
      " The columns that have int64 as data tyep is features_type                                                    string[python]\n",
      "features_geometry_type                                           string[python]\n",
      "features_geometry_coordinates                                    string[python]\n",
      "features_properties_title_en                                     string[python]\n",
      "features_properties_title_fr                                     string[python]\n",
      "                                                                      ...      \n",
      "features_properties_credits                                      string[python]\n",
      "features_properties_options                                      string[python]\n",
      "features_properties_temporalExtent_end_@indeterminatePosition    string[python]\n",
      "features_properties_temporalExtent_end_#text                     string[python]\n",
      "features_properties_sourceSystemName                             string[python]\n",
      "Length: 63, dtype: object\n"
     ]
    }
   ],
   "source": [
    "row_count, column_count = df.shape \n",
    "print(f'The shape of the raw metadata parquet dataset is {df.shape}')\n",
    "\n",
    "colnames = list(df.columns)\n",
    "print(f'The column names are {colnames}')\n",
    "\n",
    "type_int64 = df.dtypes[df.dtypes=='int64']\n",
    "print(f'\\n The columns that have int64 as data tyep is {type_int64}') \n",
    "type_string = df.dtypes[df.dtypes=='string']\n",
    "print(f'\\n The columns that have int64 as data tyep is {type_string}') "
   ]
  },
  {
   "attachments": {},
   "cell_type": "markdown",
   "id": "95c24013",
   "metadata": {},
   "source": [
    "We can see that the data has 68 columns, and most of them are stored as a string. The data contains both English and its French translations:\n",
    "* \"features_properties_title_en\"\n",
    "* \"features_properties_description_en\"\n",
    "* \"features_properties_keywords_en\""
   ]
  },
  {
   "attachments": {},
   "cell_type": "markdown",
   "id": "bd62962a",
   "metadata": {},
   "source": [
    "## Data selection and data cleaning \n",
    "Since there are 68 columns, and we need to select the columns with the most descriptive information to train the model for similarity. For the current models, we are limited the data on English with information on title, keywords, description. \n"
   ]
  },
  {
   "cell_type": "code",
   "execution_count": 30,
   "id": "3d67f763",
   "metadata": {},
   "outputs": [
    {
     "data": {
      "text/html": [
       "<div>\n",
       "<style scoped>\n",
       "    .dataframe tbody tr th:only-of-type {\n",
       "        vertical-align: middle;\n",
       "    }\n",
       "\n",
       "    .dataframe tbody tr th {\n",
       "        vertical-align: top;\n",
       "    }\n",
       "\n",
       "    .dataframe thead th {\n",
       "        text-align: right;\n",
       "    }\n",
       "</style>\n",
       "<table border=\"1\" class=\"dataframe\">\n",
       "  <thead>\n",
       "    <tr style=\"text-align: right;\">\n",
       "      <th></th>\n",
       "      <th>features_properties_id</th>\n",
       "      <th>features_properties_title_en</th>\n",
       "      <th>features_properties_description_en</th>\n",
       "      <th>features_properties_keywords_en</th>\n",
       "    </tr>\n",
       "  </thead>\n",
       "  <tbody>\n",
       "    <tr>\n",
       "      <th>0</th>\n",
       "      <td>000183ed-8864-42f0-ae43-c4313a860720</td>\n",
       "      <td>Principal Mineral Areas, Producing Mines, and ...</td>\n",
       "      <td>This dataset is produced and published annuall...</td>\n",
       "      <td>mineralization, mineral occurrences, mines, hy...</td>\n",
       "    </tr>\n",
       "    <tr>\n",
       "      <th>1</th>\n",
       "      <td>7f245e4d-76c2-4caa-951a-45d1d2051333</td>\n",
       "      <td>Canadian Digital Elevation Model, 1945-2011</td>\n",
       "      <td>This collection is a legacy product that is no...</td>\n",
       "      <td>Canada, Earth Sciences, elevation, relief, geo...</td>\n",
       "    </tr>\n",
       "    <tr>\n",
       "      <th>2</th>\n",
       "      <td>085024ac-5a48-427a-a2ea-d62af73f2142</td>\n",
       "      <td>Canada's National Earthquake Scenario Catalogue</td>\n",
       "      <td>The National Earthquake Scenario Catalogue, pr...</td>\n",
       "      <td>Emergency preparedness, Earth sciences, Earthq...</td>\n",
       "    </tr>\n",
       "    <tr>\n",
       "      <th>3</th>\n",
       "      <td>03ccfb5c-a06e-43e3-80fd-09d4f8f69703</td>\n",
       "      <td>Temporal Series of the National Air Photo Libr...</td>\n",
       "      <td>Note: To visualize the data in the viewer, zoo...</td>\n",
       "      <td>Mosaic, Aerial photography, Access to informat...</td>\n",
       "    </tr>\n",
       "    <tr>\n",
       "      <th>4</th>\n",
       "      <td>488faf70-b50b-4749-ac1c-a1fd44e06f11</td>\n",
       "      <td>Indigenous Mining Agreements</td>\n",
       "      <td>The Indigenous Mining Agreements dataset provi...</td>\n",
       "      <td>Indigenous, First Nations, Métis, Indigenous a...</td>\n",
       "    </tr>\n",
       "  </tbody>\n",
       "</table>\n",
       "</div>"
      ],
      "text/plain": [
       "                 features_properties_id  \\\n",
       "0  000183ed-8864-42f0-ae43-c4313a860720   \n",
       "1  7f245e4d-76c2-4caa-951a-45d1d2051333   \n",
       "2  085024ac-5a48-427a-a2ea-d62af73f2142   \n",
       "3  03ccfb5c-a06e-43e3-80fd-09d4f8f69703   \n",
       "4  488faf70-b50b-4749-ac1c-a1fd44e06f11   \n",
       "\n",
       "                        features_properties_title_en  \\\n",
       "0  Principal Mineral Areas, Producing Mines, and ...   \n",
       "1        Canadian Digital Elevation Model, 1945-2011   \n",
       "2    Canada's National Earthquake Scenario Catalogue   \n",
       "3  Temporal Series of the National Air Photo Libr...   \n",
       "4                       Indigenous Mining Agreements   \n",
       "\n",
       "                  features_properties_description_en  \\\n",
       "0  This dataset is produced and published annuall...   \n",
       "1  This collection is a legacy product that is no...   \n",
       "2  The National Earthquake Scenario Catalogue, pr...   \n",
       "3  Note: To visualize the data in the viewer, zoo...   \n",
       "4  The Indigenous Mining Agreements dataset provi...   \n",
       "\n",
       "                     features_properties_keywords_en  \n",
       "0  mineralization, mineral occurrences, mines, hy...  \n",
       "1  Canada, Earth Sciences, elevation, relief, geo...  \n",
       "2  Emergency preparedness, Earth sciences, Earthq...  \n",
       "3  Mosaic, Aerial photography, Access to informat...  \n",
       "4  Indigenous, First Nations, Métis, Indigenous a...  "
      ]
     },
     "execution_count": 30,
     "metadata": {},
     "output_type": "execute_result"
    }
   ],
   "source": [
    "# df.loc[] and df.iloc[] select rows \n",
    "selected_cols = ['features_properties_id', 'features_properties_title_en','features_properties_description_en','features_properties_keywords_en']\n",
    "df_en = df[selected_cols]\n",
    "df_en.head()"
   ]
  },
  {
   "cell_type": "code",
   "execution_count": 6,
   "id": "f9b57d3c",
   "metadata": {},
   "outputs": [
    {
     "name": "stdout",
     "output_type": "stream",
     "text": [
      "<class 'pandas.core.frame.DataFrame'>\n",
      "RangeIndex: 7343 entries, 0 to 7342\n",
      "Data columns (total 4 columns):\n",
      " #   Column                              Non-Null Count  Dtype \n",
      "---  ------                              --------------  ----- \n",
      " 0   features_properties_id              7343 non-null   object\n",
      " 1   features_properties_title_en        7342 non-null   string\n",
      " 2   features_properties_description_en  7343 non-null   string\n",
      " 3   features_properties_keywords_en     6194 non-null   string\n",
      "dtypes: object(1), string(3)\n",
      "memory usage: 229.6+ KB\n"
     ]
    }
   ],
   "source": [
    "df_en.info()"
   ]
  },
  {
   "attachments": {},
   "cell_type": "markdown",
   "id": "e167bbd3",
   "metadata": {},
   "source": [
    "Missing valus. \n",
    "\n",
    "In the selected variables, missing values are shown as NaN. We should replace the NaN as a empty string for concatenating the string togehter later. "
   ]
  },
  {
   "cell_type": "code",
   "execution_count": 32,
   "id": "29c94c02",
   "metadata": {},
   "outputs": [
    {
     "name": "stdout",
     "output_type": "stream",
     "text": [
      "The NaN values in the English columns after cleaning are \n",
      "\n",
      "<class 'pandas.core.frame.DataFrame'>\n",
      "RangeIndex: 7343 entries, 0 to 7342\n",
      "Data columns (total 4 columns):\n",
      " #   Column                              Non-Null Count  Dtype \n",
      "---  ------                              --------------  ----- \n",
      " 0   features_properties_id              7343 non-null   object\n",
      " 1   features_properties_title_en        7343 non-null   string\n",
      " 2   features_properties_description_en  7343 non-null   string\n",
      " 3   features_properties_keywords_en     7343 non-null   string\n",
      "dtypes: object(1), string(3)\n",
      "memory usage: 229.6+ KB\n"
     ]
    }
   ],
   "source": [
    "df_en = df_en.fillna('')\n",
    "print(\"The NaN values in the English columns after cleaning are \\n\") \n",
    "df_en.info()"
   ]
  },
  {
   "attachments": {},
   "cell_type": "markdown",
   "id": "05bf601e",
   "metadata": {},
   "source": [
    "There are some fields are labled as \"Not Available; Indisponible\" for empty value, we should replace rows with these words as a empty string too."
   ]
  },
  {
   "cell_type": "code",
   "execution_count": 33,
   "id": "f66de578",
   "metadata": {},
   "outputs": [
    {
     "name": "stdout",
     "output_type": "stream",
     "text": [
      "Columns with 'Not Available; Indisponible': []\n",
      "\n",
      "Rows with 'Not Available; Indisponible': Empty DataFrame\n",
      "Columns: [features_properties_id, features_properties_title_en, features_properties_description_en, features_properties_keywords_en]\n",
      "Index: []\n"
     ]
    }
   ],
   "source": [
    "df_en = df_en.replace('Not Available; Indisponible', '')\n",
    "# Find columns containing 'Not Available; Indisponible'\n",
    "columns_with_string = df_en.columns[df_en.apply(lambda col: col.isin(['Not Available; Indisponible'])).any()].tolist()\n",
    "print(\"Columns with 'Not Available; Indisponible':\", columns_with_string)\n",
    "\n",
    "# Find rows containing 'Not Available; Indisponible'\n",
    "rows_with_string = df_en[df_en.apply(lambda row: row.isin(['Not Available; Indisponible'])).any(axis=1)]\n",
    "print(\"\\nRows with 'Not Available; Indisponible':\", rows_with_string)\n"
   ]
  },
  {
   "attachments": {},
   "cell_type": "markdown",
   "id": "32a0efda",
   "metadata": {},
   "source": [
    "Concatenate the string from the three selected variables to a new variables called \"metadata_en\", which will be used as the text for similarity analysis. \n"
   ]
  },
  {
   "cell_type": "code",
   "execution_count": 34,
   "id": "7cc0c66a",
   "metadata": {},
   "outputs": [
    {
     "name": "stdout",
     "output_type": "stream",
     "text": [
      "<class 'pandas.core.frame.DataFrame'>\n",
      "RangeIndex: 7343 entries, 0 to 7342\n",
      "Data columns (total 5 columns):\n",
      " #   Column                              Non-Null Count  Dtype \n",
      "---  ------                              --------------  ----- \n",
      " 0   features_properties_id              7343 non-null   object\n",
      " 1   features_properties_title_en        7343 non-null   string\n",
      " 2   features_properties_description_en  7343 non-null   string\n",
      " 3   features_properties_keywords_en     7343 non-null   string\n",
      " 4   metadata_en                         7343 non-null   string\n",
      "dtypes: object(1), string(4)\n",
      "memory usage: 287.0+ KB\n"
     ]
    }
   ],
   "source": [
    "df_en['metadata_en'] = df_en['features_properties_title_en'] + ' ' + df_en['features_properties_description_en'] + ' ' + df_en['features_properties_keywords_en'] \n",
    "df_en.info()\n",
    "if df_en['metadata_en'].isnull().any():\n",
    "    df_en['metadata_en'] = df_en['metadata_en'].fillna('')\n",
    "    "
   ]
  },
  {
   "attachments": {},
   "cell_type": "markdown",
   "id": "19e958f3",
   "metadata": {},
   "source": [
    "Checking for duplications. \n",
    "\n",
    "Before preprocessing the data, we also need to check for duplications in the records. This is an important step for the similairty analysis.\n",
    "1. First, we check duplications in uuid, and delete the duplications in uuid.\n",
    "2. Then, check the duplications in 'metadata_en\", and delete the duplications in 'metadata_id\". Becuase if 'metadata_en' is duplicated, we will train the models on the exact same text for the uplications, which might create bais.  \n",
    "3. Record the deleted uuids, and upload it to S3 as a CSV file \n"
   ]
  },
  {
   "cell_type": "code",
   "execution_count": 35,
   "id": "bcdefe57",
   "metadata": {},
   "outputs": [
    {
     "name": "stdout",
     "output_type": "stream",
     "text": [
      "(7342, 5)\n",
      "(7153, 5)\n",
      "The length of the uuids of the duplicated rows are: \n",
      "287\n",
      "['0c25772d-da22-4ac1-b130-c1d97b935f6f'\n",
      " 'cfe12472-0088-474d-92fc-908524196834'\n",
      " 'e268a64c-89f8-49bf-befe-1e0fa5c2462e'\n",
      " '45dbaf52-c4c8-4e5d-89fe-d14cec62fc41'\n",
      " '81467af6-ac07-4127-ba5e-a96c8e425e35'\n",
      " '8d9de1e5-584d-443e-82aa-03583ba6f27a'\n",
      " '5de016da-7974-4606-b714-ac25831b0ced'\n",
      " 'd1a2a741-5514-4ff8-a539-ce1033ef5b58'\n",
      " 'e99a44a4-edc8-47e3-8fc3-38cc98c2f637' 'CGDIWH-141021' 'CGDIWH-141020'\n",
      " 'CGDIWH-85410' 'CGDIWH-84255' 'CGDIWH-142546' 'CGDIWH-144657'\n",
      " 'CGDIWH-143710' 'CGDIWH-144646' 'CGDIWH-141928' 'CGDIWH-141932'\n",
      " 'CGDIWH-139658' 'CGDIWH-116333' 'CGDIWH-117986' 'CGDIWH-118535'\n",
      " 'CGDIWH-139569' 'CGDIWH-114342' 'CGDIWH-114774' 'CGDIWH-86619'\n",
      " 'CGDIWH-116120' 'CGDIWH-86608' 'CGDIWH-129163' 'CGDIWH-128172'\n",
      " 'CGDIWH-126311' 'CGDIWH-126319' 'CGDIWH-145682' 'CGDIWH-150745'\n",
      " 'CGDIWH-150614' 'CGDIWH-69036' 'CGDIWH-57666' 'CGDIWH-69041'\n",
      " 'CGDIWH-150538' 'CGDIWH-150542' '2b367fbb-e6ab-48b5-b762-f49da1ec4114'\n",
      " 'CGDIWH-150562' 'CGDIWH-150570' 'CGDIWH-69350' 'CGDIWH-69042'\n",
      " 'CGDIWH-55980' 'CGDIWH-151277' 'CGDIWH-151288' 'CGDIWH-151292'\n",
      " 'CGDIWH-151295' 'CGDIWH-150781' 'CGDIWH-83885' 'CGDIWH-83774'\n",
      " 'CGDIWH-146042' 'CGDIWH-146044' 'CGDIWH-83701' 'CGDIWH-146009'\n",
      " 'CGDIWH-145862' 'CGDIWH-83894' 'CGDIWH-145864' 'CGDIWH-145885'\n",
      " 'CGDIWH-145989' 'e1d60a78-0f2c-4952-9d08-a36bbc75c79b' 'CGDIWH-150440'\n",
      " 'CGDIWH-150515' 'CGDIWH-150326' 'CGDIWH-150153' 'CGDIWH-149879'\n",
      " 'CGDIWH-86635' 'CGDIWH-87556' 'CGDIWH-87589' 'CGDIWH-87586'\n",
      " 'CGDIWH-87581' 'CGDIWH-87580' 'CGDIWH-87579' 'CGDIWH-87572'\n",
      " 'CGDIWH-87561' 'CGDIWH-88264' 'CGDIWH-87591' 'CGDIWH-87555'\n",
      " 'CGDIWH-87524' 'CGDIWH-87511' 'CGDIWH-87537' 'CGDIWH-87536'\n",
      " 'CGDIWH-87535' 'CGDIWH-87531' 'CGDIWH-87530' 'CGDIWH-87529'\n",
      " 'CGDIWH-88937' 'CGDIWH-98925' 'CGDIWH-98702' 'CGDIWH-99411'\n",
      " 'CGDIWH-99601' 'CGDIWH-91726' 'CGDIWH-89080' 'CGDIWH-89074'\n",
      " 'CGDIWH-97600' 'CGDIWH-97599' 'CGDIWH-97597' 'CGDIWH-97596'\n",
      " 'CGDIWH-97590' 'CGDIWH-97582' 'CGDIWH-92719' 'CGDIWH-91830'\n",
      " 'CGDIWH-87505' 'CGDIWH-86636' 'CGDIWH-103772' 'CGDIWH-103809'\n",
      " 'CGDIWH-86665' 'CGDIWH-104039' 'CGDIWH-106934' 'CGDIWH-103767'\n",
      " 'CGDIWH-103678' 'CGDIWH-103750' 'CGDIWH-87504' 'CGDIWH-110852'\n",
      " 'CGDIWH-111262' 'CGDIWH-111298' 'CGDIWH-111790' 'CGDIWH-112168'\n",
      " 'CGDIWH-110238' 'CGDIWH-107149' 'CGDIWH-86657' 'CGDIWH-55875'\n",
      " 'CGDIWH-87344' 'CGDIWH-87234' 'CGDIWH-87187' 'CGDIWH-87186'\n",
      " 'CGDIWH-87182' 'CGDIWH-87143' 'CGDIWH-87139' 'CGDIWH-87137'\n",
      " 'CGDIWH-87366' 'CGDIWH-87368' 'CGDIWH-87501' 'CGDIWH-87496'\n",
      " 'CGDIWH-87494' 'CGDIWH-87417' 'CGDIWH-87382' 'CGDIWH-102610'\n",
      " 'CGDIWH-102615' 'CGDIWH-102625' 'CGDIWH-102633' 'CGDIWH-87115'\n",
      " 'CGDIWH-102198' 'CGDIWH-102200' 'CGDIWH-87114' 'CGDIWH-86745'\n",
      " 'CGDIWH-158104' 'CGDIWH-158105' 'CGDIWH-158108' 'CGDIWH-158110'\n",
      " 'CGDIWH-158116' 'CGDIWH-158119' 'CGDIWH-158121' 'CGDIWH-52435'\n",
      " 'CGDIWH-158292' 'CGDIWH-158086' 'CGDIWH-158084' 'CGDIWH-157963'\n",
      " 'CGDIWH-157983' 'CGDIWH-157984' 'CGDIWH-161643' 'CGDIWH-45504'\n",
      " 'CGDIWH-49211' 'CGDIWH-158307' 'CGDIWH-49662' 'CGDIWH-49214'\n",
      " 'CGDIWH-160632' 'CGDIWH-49213' 'CGDIWH-52558' 'CGDIWH-52557'\n",
      " 'CGDIWH-52601' 'CGDIWH-52596' 'CGDIWH-52578' 'CGDIWH-157315'\n",
      " 'CGDIWH-157316' 'CGDIWH-52577' 'CGDIWH-52576' 'CGDIWH-52565'\n",
      " 'CGDIWH-157848' 'CGDIWH-157849' 'CGDIWH-157852' 'CGDIWH-157856'\n",
      " 'CGDIWH-157907' 'CGDIWH-15792' 'CGDIWH-157847' 'CGDIWH-52548'\n",
      " 'CGDIWH-157676' 'CGDIWH-157680' 'CGDIWH-157308' 'CGDIWH-39730'\n",
      " 'CGDIWH-39747' 'CGDIWH-39781' 'CGDIWH-39782' 'CGDIWH-39787'\n",
      " 'CGDIWH-39794' 'CGDIWH-40116' 'CGDIWH-40244' 'CGDIWH-40363'\n",
      " 'CGDIWH-40364' 'CGDIWH-39536' 'CGDIWH-39535' 'CGDIWH-39117'\n",
      " 'CGDIWH-39120' 'CGDIWH-39402' 'CGDIWH-41046' 'CGDIWH-42202'\n",
      " 'CGDIWH-43052' 'CGDIWH-40516' 'CGDIWH-40800' 'CGDIWH-40802'\n",
      " 'CGDIWH-40810' 'CGDIWH-40813' 'CGDIWH-40821' 'CGDIWH-40992' 'CGDIWH-171'\n",
      " 'CGDIWH-29935' 'CGDIWH-162336' 'CGDIWH-162340' 'CGDIWH-162579'\n",
      " 'CGDIWH-162582' 'CGDIWH-34961' 'CGDIWH-36747' 'CGDIWH-36907'\n",
      " 'CGDIWH-44518' 'CGDIWH-35717' 'CGDIWH-35726' 'CGDIWH-35727'\n",
      " 'CGDIWH-35728' 'CGDIWH-35729' 'CGDIWH-35733' 'CGDIWH-55874'\n",
      " 'CGDIWH-52637' 'CGDIWH-53535' 'CGDIWH-52643' 'CGDIWH-52638'\n",
      " 'CGDIWH-153979' 'CGDIWH-153988' 'CGDIWH-153989' 'CGDIWH-153996'\n",
      " 'CGDIWH-154000' 'CGDIWH-153899' 'CGDIWH-153900' 'CGDIWH-153947'\n",
      " 'CGDIWH-153949' 'CGDIWH-154006' 'CGDIWH-155506' 'CGDIWH-155508'\n",
      " 'CGDIWH-155512' 'CGDIWH-155638' 'CGDIWH-155639' 'CGDIWH-155643'\n",
      " 'CGDIWH-155645' 'CGDIWH-155654' 'CGDIWH-52617' 'CGDIWH-155803'\n",
      " 'CGDIWH-155809' 'CGDIWH-52616' 'CGDIWH-154007' 'CGDIWH-154011'\n",
      " 'CGDIWH-154019' 'CGDIWH-155403' 'CGDIWH-52619' 'CGDIWH-155405'\n",
      " 'CGDIWH-153895' 'CGDIWH-52615' 'CGDIWH-54725' 'CGDIWH-54709'\n",
      " 'CGDIWH-151441' 'CGDIWH-55756' 'CGDIWH-54733' 'CGDIWH-152358'\n",
      " 'CGDIWH-153837' 'CGDIWH-54327' 'CGDIWH-54194' 'CGDIWH-153894'\n",
      " 'CGDIWH-54338' 'CGDIWH-54378' 'CGDIWH-54452'\n",
      " 'ccmeo-napl-tuktoyaktuk-napl-tuktoyaktuk-1993-07-22-5k'\n",
      " 'ccmeo-napl-tuktoyaktuk-napl-tuktoyaktuk-1993-07-22-15k' 'CGDIWH-157138'\n",
      " 'CGDIWH-52611' 'CGDIWH-157258' 'CGDIWH-52604']\n"
     ]
    }
   ],
   "source": [
    "# Find rows with duplications in 'features_properties_id'\n",
    "duplicateRowsDF1 = df_en[df_en.duplicated(['features_properties_id'], keep=False)]\n",
    "#print(\"Duplicate Rows except first occurrence based on features_properties_id are :\")\n",
    "#print(duplicateRowsDF1)\n",
    "df_en = df_en.drop_duplicates(subset=['features_properties_id'], keep='first')\n",
    "print(df_en.shape)\n",
    "\n",
    "# Find rows with duplications in 'metadata_en'\n",
    "duplicateRowsDF2 = df_en[df_en.duplicated(['metadata_en'], keep=False)]\n",
    "#print(\"Duplicate Rows except first occurrence based on Metadata_en are :\")\n",
    "#print(duplicateRowsDF2.shape)\n",
    "df_en = df_en.drop_duplicates(subset=['metadata_en'], keep='first')\n",
    "print(df_en.shape)\n",
    "\n",
    "# Upload the duplicate date to S3 as a csv file\n",
    "duplicateRowsDF = pd.concat([duplicateRowsDF1, duplicateRowsDF2])\n",
    "\n",
    "print('The length of the uuids of the duplicated rows are: ')\n",
    "print(len(duplicateRowsDF['features_properties_id'].unique()))\n",
    "print(duplicateRowsDF['features_properties_id'].unique())\n"
   ]
  },
  {
   "cell_type": "code",
   "execution_count": 11,
   "id": "80809b54",
   "metadata": {},
   "outputs": [
    {
     "name": "stdout",
     "output_type": "stream",
     "text": [
      "Uploading Duplicated_records.parquet to nlp-data-preprocessing as parquet file\n"
     ]
    },
    {
     "data": {
      "text/plain": [
       "True"
      ]
     },
     "execution_count": 11,
     "metadata": {},
     "output_type": "execute_result"
    }
   ],
   "source": [
    "# Upload the duplicate date to S3 as a parquet file \n",
    "def upload_dataframe_to_s3_as_parquet(df, bucket_name, file_key):\n",
    "    # Save DataFrame as a Parquet file locally\n",
    "    parquet_file_path = 'temp.parquet'\n",
    "    df.to_parquet(parquet_file_path)\n",
    "\n",
    "    # Create an S3 client\n",
    "    s3_client = boto3.client('s3')\n",
    "\n",
    "    # Upload the Parquet file to S3 bucket\n",
    "    try:\n",
    "        response = s3_client.upload_file(parquet_file_path, bucket_name, file_key)\n",
    "        os.remove(parquet_file_path)\n",
    "        print(f'Uploading {file_key} to {bucket_name} as parquet file')\n",
    "        # Delete the local Parquet file\n",
    "        return True\n",
    "    except ClientError as e:\n",
    "        logging.error(e)\n",
    "        return False\n",
    "    \n",
    "    \n",
    "upload_dataframe_to_s3_as_parquet(df=duplicateRowsDF,  bucket_name='nlp-data-preprocessing', file_key='Duplicated_records.parquet')  "
   ]
  },
  {
   "attachments": {},
   "cell_type": "markdown",
   "id": "c5e6208c",
   "metadata": {},
   "source": [
    "Looking at the raw but cleaned texts "
   ]
  },
  {
   "cell_type": "code",
   "execution_count": 37,
   "id": "fb2fcd4d",
   "metadata": {},
   "outputs": [
    {
     "name": "stdout",
     "output_type": "stream",
     "text": [
      "metadata_en    Mining activities Mining activities include in...\n",
      "Name: 2416, dtype: string\n",
      "metadata_en    Leduc Cityworks Cityworks utilities This third...\n",
      "Name: 5784, dtype: string\n"
     ]
    }
   ],
   "source": [
    "print(df_en[['metadata_en']].sample(n=1, random_state=42).iloc[0])\n",
    "print(df_en[['metadata_en']].sample(n=1, random_state=2000).iloc[0])"
   ]
  },
  {
   "attachments": {},
   "cell_type": "markdown",
   "id": "220e227e",
   "metadata": {},
   "source": [
    "## Preprocess raw text for similarity analysis \n",
    "Data preprocessing is one of the critical steps in any machine learning project. It includes cleaning and formatting the data before feeding into a machine learning algorithm. For NLP, the preprocessing steps are comprised of the following tasks:\n",
    "\n",
    "* Tokenizing the string (skipped)\n",
    "* Lowercasing\n",
    "* Removing [stop words](https://gist.github.com/ethen8181/d57e762f81aa643744c2ffba5688d33a)  and [punctuation](https://towardsdatascience.com/tf-idf-for-document-ranking-from-scratch-in-python-on-real-world-dataset-796d339a4089) \n",
    "* Stemming\n",
    "* Remove apostrophe\n"
   ]
  },
  {
   "cell_type": "code",

   "execution_count": 38,
   "id": "ea180648",
   "metadata": {},
   "outputs": [
    {
     "name": "stdout",
     "output_type": "stream",
     "text": [
      "The selected sample type is <class 'pandas.core.series.Series'> and the text is: \n",
      "\n",
      "20    Areas of High Quality Natural Cover in the Lak...\n",
      "21    High Resolution Digital Elevation Model Mosaic...\n",
      "22    Coastal biodiversity of the benthic epifauna o...\n",
      "23    Heat wave days for warm season crops (>35°C) H...\n",
      "24    Coastal BC Campsites The locations of coastal ...\n",
      "25    OD0139 PEI Confederation Trail Available as an...\n",
      "26    Digital Elevation Model for British Columbia -...\n",
      "27    Yukon Reference Information Created for distri...\n",
      "28    Spring 2020 flood mapping # #Données related t...\n",
      "29    Seasonal Movements and Diving of Ringed Seals,...\n",
      "30    Major Projects Inventory The major projects in...\n",
      "Name: metadata_en, dtype: string\n",
      "The first row of the select sample is type <class 'str'> and the text is: \n",
      "\n",
      "Areas of High Quality Natural Cover in the Lake Simcoe Watershed Natural cover includes areas that have been mapped as woodlands (including plantations and hedgerows), wetlands and other rare vegetative cover communities. Data here represent areas outlined in the Lake Simcoe Protection Plan Policy 6.48 (June 2011). Instructions for downloading this dataset: * select the link below and scroll down the metadata record page until you find **Transfer Options** in the **Distribution Information** section * select the link beside the **Data for download** label * you must provide your name, organization and email address in order to access the dataset. This product requires the use of GIS software. *[GIS]: geographic information system Economy and Business, Environment and Natural Resources, Environment and energy, Government information\n"
     ]
    }
   ],
   "source": [
    "# Our selected sample. Complex enough to exemplify each step\n",
    "metadata_en = df_en.loc[20:30]['metadata_en']\n",
    "print(f'The selected sample type is {type(metadata_en)} and the text is: \\n')\n",
    "print(metadata_en)\n",
    "\n",
    "print(f'The first row of the select sample is type {type(metadata_en.iloc[0])} and the text is: \\n')\n",
    "print(metadata_en.iloc[0])"
   ]
  },
  {
   "cell_type": "code",
   "execution_count": 39,
   "id": "e29ad99d",
   "metadata": {},
   "outputs": [],
   "source": [
    "import nltk\n",
    "#nltk.download('stopwords')\n",
    "from nltk.corpus import stopwords          # module for stop words that come with NLTK\n",
    "from nltk.stem import PorterStemmer        # module for stemming\n",
    "from nltk.tokenize import word_tokenize   # module for tokenizing strings\n",
    "import string                              # for string operations\n",
    "import re"
   ]
  },
  {
   "attachments": {},
   "cell_type": "markdown",
   "id": "8a59c8a0",
   "metadata": {},
   "source": [
    "### Tokenize the string\n",
    "To tokenize means to split the strings into individual words without blanks or tabs. In this same step, we will also convert each word in the string to lower case. The [tokenize](https://www.nltk.org/api/nltk.tokenize.html#module-nltk.tokenize.casual) module from NLTK allows us to do these easily:"
   ]
  },
  {
   "cell_type": "code",
   "execution_count": 40,
   "id": "1e7e5c82",
   "metadata": {},
   "outputs": [
    {
     "name": "stdout",
     "output_type": "stream",
     "text": [
      "['areas', 'of', 'high', 'quality', 'natural', 'cover', 'in', 'the', 'lake', 'simcoe', 'watershed', 'natural', 'cover', 'includes', 'areas', 'that', 'have', 'been', 'mapped', 'as', 'woodlands', '(', 'including', 'plantations', 'and', 'hedgerows', ')', ',', 'wetlands', 'and', 'other', 'rare', 'vegetative', 'cover', 'communities', '.', 'data', 'here', 'represent', 'areas', 'outlined', 'in', 'the', 'lake', 'simcoe', 'protection', 'plan', 'policy', '6.48', '(', 'june', '2011', ')', '.', 'instructions', 'for', 'downloading', 'this', 'dataset', ':', '*', 'select', 'the', 'link', 'below', 'and', 'scroll', 'down', 'the', 'metadata', 'record', 'page', 'until', 'you', 'find', '*', '*', 'transfer', 'options', '*', '*', 'in', 'the', '*', '*', 'distribution', 'information', '*', '*', 'section', '*', 'select', 'the', 'link', 'beside', 'the', '*', '*', 'data', 'for', 'download', '*', '*', 'label', '*', 'you', 'must', 'provide', 'your', 'name', ',', 'organization', 'and', 'email', 'address', 'in', 'order', 'to', 'access', 'the', 'dataset', '.', 'this', 'product', 'requires', 'the', 'use', 'of', 'gis', 'software', '.', '*', '[', 'gis', ']', ':', 'geographic', 'information', 'system', 'economy', 'and', 'business', ',', 'environment', 'and', 'natural', 'resources', ',', 'environment', 'and', 'energy', ',', 'government', 'information']\n"
     ]
    }
   ],
   "source": [
    "# Tokenize the string into words\n",
    "def tokenize_text(text):\n",
    "    return(word_tokenize(text.lower()))\n",
    "tokens = tokenize_text(metadata_en.iloc[0])\n",
    "print(tokens)"
   ]
  },
  {
   "attachments": {},
   "cell_type": "markdown",
   "id": "949db546",
   "metadata": {},
   "source": [
    "### Remove stop words and punctuations\n",
    "\n",
    "The next step is to remove stop words and punctuation. Stop words are words that don't add significant meaning to the text. You'll see the list provided by NLTK when you run the cells below."
   ]
  },
  {
   "cell_type": "code",
   "execution_count": 41,

   "id": "34b9382b",
   "metadata": {},
   "outputs": [
    {
     "name": "stdout",
     "output_type": "stream",
     "text": [
      "Stop words\n",
      "\n",
      "['i', 'me', 'my', 'myself', 'we', 'our', 'ours', 'ourselves', 'you', \"you're\", \"you've\", \"you'll\", \"you'd\", 'your', 'yours', 'yourself', 'yourselves', 'he', 'him', 'his', 'himself', 'she', \"she's\", 'her', 'hers', 'herself', 'it', \"it's\", 'its', 'itself', 'they', 'them', 'their', 'theirs', 'themselves', 'what', 'which', 'who', 'whom', 'this', 'that', \"that'll\", 'these', 'those', 'am', 'is', 'are', 'was', 'were', 'be', 'been', 'being', 'have', 'has', 'had', 'having', 'do', 'does', 'did', 'doing', 'a', 'an', 'the', 'and', 'but', 'if', 'or', 'because', 'as', 'until', 'while', 'of', 'at', 'by', 'for', 'with', 'about', 'against', 'between', 'into', 'through', 'during', 'before', 'after', 'above', 'below', 'to', 'from', 'up', 'down', 'in', 'out', 'on', 'off', 'over', 'under', 'again', 'further', 'then', 'once', 'here', 'there', 'when', 'where', 'why', 'how', 'all', 'any', 'both', 'each', 'few', 'more', 'most', 'other', 'some', 'such', 'no', 'nor', 'not', 'only', 'own', 'same', 'so', 'than', 'too', 'very', 's', 't', 'can', 'will', 'just', 'don', \"don't\", 'should', \"should've\", 'now', 'd', 'll', 'm', 'o', 're', 've', 'y', 'ain', 'aren', \"aren't\", 'couldn', \"couldn't\", 'didn', \"didn't\", 'doesn', \"doesn't\", 'hadn', \"hadn't\", 'hasn', \"hasn't\", 'haven', \"haven't\", 'isn', \"isn't\", 'ma', 'mightn', \"mightn't\", 'mustn', \"mustn't\", 'needn', \"needn't\", 'shan', \"shan't\", 'shouldn', \"shouldn't\", 'wasn', \"wasn't\", 'weren', \"weren't\", 'won', \"won't\", 'wouldn', \"wouldn't\"]\n",
      "\n",
      "Punctuation\n",
      "\n",
      "!\"#$%&'()*+,-./:;<=>?@[\\]^_`{|}~\n"
     ]
    }
   ],
   "source": [
    "#Import the english stop words list from NLTK\n",
    "nltk.download('stopwords')\n",
    "stopwords_english = stopwords.words('english') \n",
    "print('Stop words\\n')\n",
    "print(stopwords_english)\n",
    "\n",
    "print('\\nPunctuation\\n')\n",
    "print(string.punctuation)\n"
   ]
  },
  {
   "cell_type": "code",
   "execution_count": 17,
   "id": "aae40b1a",
   "metadata": {},
   "outputs": [
    {
     "name": "stdout",
     "output_type": "stream",
     "text": [
      "Text after removing stop words and punctuation\n",
      "\n",

      "Areas High Quality Natural Cover Lake Simcoe Watershed Natural cover includes areas mapped woodlands including plantations hedgerows wetlands rare vegetative cover communities Data represent areas outlined Lake Simcoe Protection Plan Policy 648 June 2011 Instructions downloading dataset  select link scroll metadata record page find Transfer Options Distribution Information section  select link beside Data download label  must provide name organization email address order access dataset This product requires use GIS software GIS geographic information system Economy Business Environment Natural Resources Environment energy Government information\n"
     ]
    },
    {
     "name": "stderr",
     "output_type": "stream",
     "text": [
      "C:\\Users\\xcai\\AppData\\Local\\Temp\\ipykernel_25664\\558903863.py:8: FutureWarning: The default value of regex will change from True to False in a future version.\n",
      "  text = text.str.replace(r'[^\\w\\s]+', '')\n"
     ]
    }
   ],
   "source": [
    "# remove stop words and punctuation for panda series\n",
    "def remove_stopwords_pdf(text):\n",
    "    stop_words = stopwords.words('english') # English stop words see:https://gist.github.com/ethen8181/d57e762f81aa643744c2ffba5688d33a\n",
    "    text = text.apply(lambda x: ' '.join([word for word in x.split() if word not in (stop_words)]))\n",
    "    return text\n",
    "# Remove punctuation \n",
    "def remove_punctuation_pdf(text):\n",
    "    text = text.str.replace(r'[^\\w\\s]+', '')\n",
    "    return text\n",
    "test_str = remove_stopwords_pdf(metadata_en)\n",
    "test_str = remove_punctuation_pdf(test_str)\n",
    "print('Text after removing stop words and punctuation\\n')\n",
    "print(test_str.iloc[0])"
   ]
  },
  {
   "cell_type": "code",

   "execution_count": 18,

   "id": "30fce17d",
   "metadata": {},
   "outputs": [
    {
     "name": "stdout",
     "output_type": "stream",
     "text": [
      "Text after removing stop words and punctuation\n",
      "\n",
      "['areas', 'high', 'quality', 'natural', 'cover', 'lake', 'simcoe', 'watershed', 'natural', 'cover', 'includes', 'areas', 'mapped', 'woodlands', 'including', 'plantations', 'hedgerows', 'wetlands', 'rare', 'vegetative', 'cover', 'communities', 'data', 'represent', 'areas', 'outlined', 'lake', 'simcoe', 'protection', 'plan', 'policy', 'june', '2011', 'instructions', 'downloading', 'dataset', 'select', 'link', 'scroll', 'metadata', 'record', 'page', 'find', 'transfer', 'options', 'distribution', 'information', 'section', 'select', 'link', 'beside', 'data', 'download', 'label', 'must', 'provide', 'name', 'organization', 'email', 'address', 'order', 'access', 'dataset', 'product', 'requires', 'use', 'gis', 'software', 'gis', 'geographic', 'information', 'system', 'economy', 'business', 'environment', 'natural', 'resources', 'environment', 'energy', 'government', 'information']\n"
     ]
    }
   ],
   "source": [
    "# remove stop words and punctuation for string\n",
    "def remove_stopwords_punctuation_tokens(tokens):\n",
    "    stop_words = stopwords.words('english') \n",
    "    tokens = [token for token in tokens if token.isalnum() and token not in stop_words]\n",
    "    return tokens\n",
    "tokens = remove_stopwords_punctuation_tokens(tokens)\n",
    "print('Text after removing stop words and punctuation\\n')\n",
    "print(tokens)"
   ]
  },
  {
   "attachments": {},
   "cell_type": "markdown",
   "id": "172dd416",
   "metadata": {},
   "source": [
    "### Remove apostrophe"
   ]
  },
  {
   "cell_type": "code",

   "execution_count": 19,
   "id": "7492b874",
   "metadata": {},
   "outputs": [
    {
     "name": "stdout",
     "output_type": "stream",
     "text": [
      "Areas High Quality Natural Cover Lake Simcoe Watershed Natural cover includes areas mapped woodlands including plantations hedgerows wetlands rare vegetative cover communities Data represent areas outlined Lake Simcoe Protection Plan Policy 648 June 2011 Instructions downloading dataset  select link scroll metadata record page find Transfer Options Distribution Information section  select link beside Data download label  must provide name organization email address order access dataset This product requires use GIS software GIS geographic information system Economy Business Environment Natural Resources Environment energy Government information\n"
     ]
    },
    {
     "name": "stderr",
     "output_type": "stream",
     "text": [
      "C:\\Users\\xcai\\AppData\\Local\\Temp\\ipykernel_25664\\3353811831.py:3: FutureWarning: The default value of regex will change from True to False in a future version.\n",
      "  data = data.str.replace(r\"[\\\"\\',]\", '')\n"
     ]
    }
   ],
   "source": [
    "# Remove apostrophe \n",
    "def remove_apostrophe(data):\n",
    "    data = data.str.replace(r\"[\\\"\\',]\", '')\n",
    "    return data\n",
    "test_str = remove_apostrophe(test_str)\n",
    "print(test_str.iloc[0])"
   ]
  },
  {
   "cell_type": "code",
   "execution_count": 20,
   "id": "8dbe48b8",
   "metadata": {},
   "outputs": [
    {
     "data": {
      "text/plain": [
       "['areas', 'high', 'quality', \"you're\", 'looking', 'for']"
      ]
     },
     "execution_count": 20,
     "metadata": {},
     "output_type": "execute_result"
    }
   ],
   "source": [
    "def remove_apostrophe_tokens(tokens):\n",
    "    tokens = [re.sub(r\"\\'s$\", \"\", token) for token in tokens]\n",
    "    return tokens\n",
    "remove_apostrophe_tokens(['areas', 'high', 'quality', 'you\\'re', 'looking', 'for'])\n"
   ]
  },
  {
   "attachments": {},
   "cell_type": "markdown",
   "id": "99e7b932",
   "metadata": {},
   "source": [
    "### Stemming\n",
    "\n",
    "Stemming is the process of converting a word to its most general form, or stem. This helps in reducing the size of our vocabulary.\n",
    "\n",
    "Consider the words: \n",
    " * **learn**\n",
    " * **learn**ing\n",
    " * **learn**ed\n",
    " * **learn**t\n",
    " \n",
    "All these words are stemmed from its common root **learn**. However, in some cases, the stemming process produces words that are not correct spellings of the root word. For example, **happi** and **sunni**. That's because it chooses the most common stem for related words. For example, we can look at the set of words that comprises the different forms of happy:\n",
    "\n",
    " * **happ**y\n",
    " * **happi**ness\n",
    " * **happi**er\n",
    " \n",
    "We can see that the prefix **happi** is more commonly used. We cannot choose **happ** because it is the stem of unrelated words like **happen**.\n",
    " \n",
    "NLTK has different modules for stemming and we will be using the [PorterStemmer](https://www.nltk.org/api/nltk.stem.html#module-nltk.stem.porter) module which uses the [Porter Stemming Algorithm](https://tartarus.org/martin/PorterStemmer/)."
   ]
  },
  {
   "cell_type": "code",

   "execution_count": 21,
   "id": "1bc0fe4f",
   "metadata": {},
   "outputs": [
    {
     "name": "stdout",
     "output_type": "stream",
     "text": [

      "area high qualiti natur cover lake simco watersh natur cover includ area map woodland includ plantat hedgerow wetland rare veget cover commun data repres area outlin lake simco protect plan polici 648 june 2011 instruct download dataset select link scroll metadata record page find transfer option distribut inform section select link besid data download label must provid name organ email address order access dataset thi product requir use gi softwar gi geograph inform system economi busi environ natur resourc environ energi govern inform\n"
     ]
    }
   ],
   "source": [
    "# Stemming\n",
    "def stemming(text):\n",
    "    stemmer = PorterStemmer()\n",
    "    text = text.apply(lambda x: ' '.join([stemmer.stem(word) for word in x.split()]))\n",
    "    return text\n",
    "test_str = stemming(test_str)\n",
    "print(test_str.iloc[0])\n"
   ]
  },
  {
   "cell_type": "code",

   "execution_count": 22,
   "id": "c35d5f30",
   "metadata": {},
   "outputs": [
    {
     "name": "stdout",
     "output_type": "stream",
     "text": [
      "['area', 'high', 'qualiti', 'natur', 'cover', 'lake', 'simco', 'watersh', 'natur', 'cover', 'includ', 'area', 'map', 'woodland', 'includ', 'plantat', 'hedgerow', 'wetland', 'rare', 'veget', 'cover', 'commun', 'data', 'repres', 'area', 'outlin', 'lake', 'simco', 'protect', 'plan', 'polici', 'june', '2011', 'instruct', 'download', 'dataset', 'select', 'link', 'scroll', 'metadata', 'record', 'page', 'find', 'transfer', 'option', 'distribut', 'inform', 'section', 'select', 'link', 'besid', 'data', 'download', 'label', 'must', 'provid', 'name', 'organ', 'email', 'address', 'order', 'access', 'dataset', 'product', 'requir', 'use', 'gi', 'softwar', 'gi', 'geograph', 'inform', 'system', 'economi', 'busi', 'environ', 'natur', 'resourc', 'environ', 'energi', 'govern', 'inform']\n",
      "Areas of High Quality Natural Cover in the Lake Simcoe Watershed Natural cover includes areas that have been mapped as woodlands (including plantations and hedgerows), wetlands and other rare vegetative cover communities. Data here represent areas outlined in the Lake Simcoe Protection Plan Policy 6.48 (June 2011). Instructions for downloading this dataset: * select the link below and scroll down the metadata record page until you find **Transfer Options** in the **Distribution Information** section * select the link beside the **Data for download** label * you must provide your name, organization and email address in order to access the dataset. This product requires the use of GIS software. *[GIS]: geographic information system Economy and Business, Environment and Natural Resources, Environment and energy, Government information\n"
     ]
    }
   ],
   "source": [
    "def stemming_tokens(tokens):\n",
    "    # Instantiate stemming class\n",
    "    stemmer = PorterStemmer() \n",
    "    tokens = [stemmer.stem(token) for token in tokens]\n",
    "    return tokens\n",
    "tokens = stemming_tokens(tokens)\n",
    "print(tokens)\n",
    "print(metadata_en.iloc[0])"
   ]
  },
  {
   "attachments": {},
   "cell_type": "markdown",
   "id": "53033514",
   "metadata": {},
   "source": [
    "### process()\n"
   ]
  },
  {
   "cell_type": "code",

   "execution_count": 24,
   "id": "0da2ec4e",
   "metadata": {},
   "outputs": [
    {
     "name": "stderr",
     "output_type": "stream",
     "text": [
      "C:\\Users\\xcai\\AppData\\Local\\Temp\\ipykernel_25664\\558903863.py:8: FutureWarning: The default value of regex will change from True to False in a future version.\n",
      "  text = text.str.replace(r'[^\\w\\s]+', '')\n",
      "C:\\Users\\xcai\\AppData\\Local\\Temp\\ipykernel_25664\\3353811831.py:3: FutureWarning: The default value of regex will change from True to False in a future version.\n",
      "  data = data.str.replace(r\"[\\\"\\',]\", '')\n"
     ]
    }
   ],
   "source": [
    "# \n",
    "def process_without_tokens(text):\n",
    "    text = text.str.lower() # convert to lowercase\n",
    "    text = remove_stopwords_pdf(text)\n",
    "    text = remove_punctuation_pdf(text)\n",
    "    text = remove_apostrophe(text)\n",
    "    #text = stemming(text)\n",
    "    return text\n",
    "df_en['metadata_en_processed'] = process_without_tokens(df_en['metadata_en'])\n",
    "\n"
   ]
  },
  {
   "cell_type": "code",
   "execution_count": 50,
   "id": "665bc5e9",
   "metadata": {},
   "outputs": [
    {
     "name": "stdout",
     "output_type": "stream",
     "text": [
      "For dataset Important Areas for Cetaceans in Strait of Georgia Ecoregion \n",
      "\n",
      "Original:  Important Areas for Cetaceans in Strait of Georgia Ecoregion This layer details Important Areas (IAs) relevant to key cetacean species in the Strait of Georgia (SOG) ecoregion. This data was mapped to inform the selection of marine Ecologically and Biologically Significant Areas (EBSA). Experts have indicated that these areas are relevant based upon their high ranking in one or more of three criteria (Uniqueness, Aggregation, and Fitness Consequences). The distribution of IA's within ecoregions is used in the designation of EBSA's.\\n\\nCanada’s Oceans Act provides the legislative framework for an integrated ecosystem approach to management in Canadian oceans, particularly in areas considered ecologically or biologically significant. DFO has developed general guidance for the identification of ecologically or biologically significant areas. The criteria for defining such areas include uniqueness, aggregation, fitness consequences, resilience, and naturalness. This science advisory process identifies proposed EBSAs in Canadian Pacific marine waters, specifically in the Strait of Georgia (SOG), along the west coast of Vancouver Island (WCVI, southern shelf ecoregion), and in the Pacific North Coast Integrated Management Area (PNCIMA, northern shelf ecoregion).\\n\\nInitial assessment of IA's in PNCIMA was carried out in September 2004 to March 2005 with spatial data collection coordinated by Cathryn Clarke. Subsequent efforts in WCVI and SOG were conducted in 2009, and may have used different scientific advisors, temporal extents, data, and assessment methods. WCVI and SOG IA assessment in some cases revisits data collected for PNCIMA, but should be treated as a separate effort.\\n\\nOther datasets in this series detail IAs for birds, coral and sponges, fish, geographic features, invertebrates, and other vertebrates.\\n\\nThough data collection is considered complete, the emergence of significant new data may merit revisiting of IA's on a case by case basis. Environmental planning, Marine ecosystems, IA, EBSA, Important Areas, British Columbia, Strait of Georgia, Salish Sea, Environmental quality, Ecology, Whales\n",
      "\n",
      "\n",
      "Cleaned:  important areas cetaceans strait georgia ecoregion layer details important areas (ias) relevant key cetacean species strait georgia (sog) ecoregion. data mapped inform selection marine ecologically biologically significant areas (ebsa). experts indicated areas relevant based upon high ranking one three criteria (uniqueness, aggregation, fitness consequences). distribution ia's within ecoregions used designation ebsa's.\\n\\ncanada’s oceans act provides legislative framework integrated ecosystem approach management canadian oceans, particularly areas considered ecologically biologically significant. dfo developed general guidance identification ecologically biologically significant areas. criteria defining areas include uniqueness, aggregation, fitness consequences, resilience, naturalness. science advisory process identifies proposed ebsas canadian pacific marine waters, specifically strait georgia (sog), along west coast vancouver island (wcvi, southern shelf ecoregion), pacific north coast integrated management area (pncima, northern shelf ecoregion).\\n\\ninitial assessment ia's pncima carried september 2004 march 2005 spatial data collection coordinated cathryn clarke. subsequent efforts wcvi sog conducted 2009, may used different scientific advisors, temporal extents, data, assessment methods. wcvi sog ia assessment cases revisits data collected pncima, treated separate effort.\\n\\nother datasets series detail ias birds, coral sponges, fish, geographic features, invertebrates, vertebrates.\\n\\nthough data collection considered complete, emergence significant new data may merit revisiting ia's case case basis. environmental planning, marine ecosystems, ia, ebsa, important areas, british columbia, strait georgia, salish sea, environmental quality, ecology, whales\n"

     ]
    }
   ],
   "source": [
    "# An example of cleaned text \n",
    "print('For dataset {} \\n'.format(df_en.loc[442]['features_properties_title_en']))\n",
    "print('Original:  {}'.format(df_en.loc[442]['metadata_en']))\n",
    "print(\"\\n\")\n",
    "print('Cleaned:  {}'.format(df_en.loc[442]['metadata_en_processed']))"
   ]
  },
  {
   "cell_type": "code",
   "execution_count": 51,

   "id": "751018fa",
   "metadata": {},
   "outputs": [],
   "source": [
    "def process_tokens(tokens):\n",
    "    # Tokenize text and lower case\n",
    "    tokens = tokenize_text(tokens)\n",
    "    # Remove stop words and punctuation\n",
    "    tokens = remove_stopwords_punctuation_tokens(tokens)\n",
    "    # Remove apostrophe\n",
    "    tokens = remove_apostrophe_tokens(tokens)\n",
    "    # Stemming\n",
    "    #tokens = stemming_tokens(tokens)\n",
    "    # Join tokens back into a string\n",
    "    preprocessed_text = ' '.join(tokens)\n",
    "    return preprocessed_text\n",
    "# Apply text preprocessing to the 'Text' column\n",
    "df_en['metadata_en_preprocessed_token'] = df_en['metadata_en'].apply(process_tokens)\n",
    "\n"
   ]
  },
  {
   "cell_type": "code",
   "execution_count": 52,
   "id": "889be370",
   "metadata": {},
   "outputs": [
    {
     "name": "stdout",
     "output_type": "stream",
     "text": [
      "For dataset Important Areas for Cetaceans in Strait of Georgia Ecoregion \n",
      "\n",
      "Original:  Important Areas for Cetaceans in Strait of Georgia Ecoregion This layer details Important Areas (IAs) relevant to key cetacean species in the Strait of Georgia (SOG) ecoregion. This data was mapped to inform the selection of marine Ecologically and Biologically Significant Areas (EBSA). Experts have indicated that these areas are relevant based upon their high ranking in one or more of three criteria (Uniqueness, Aggregation, and Fitness Consequences). The distribution of IA's within ecoregions is used in the designation of EBSA's.\\n\\nCanada’s Oceans Act provides the legislative framework for an integrated ecosystem approach to management in Canadian oceans, particularly in areas considered ecologically or biologically significant. DFO has developed general guidance for the identification of ecologically or biologically significant areas. The criteria for defining such areas include uniqueness, aggregation, fitness consequences, resilience, and naturalness. This science advisory process identifies proposed EBSAs in Canadian Pacific marine waters, specifically in the Strait of Georgia (SOG), along the west coast of Vancouver Island (WCVI, southern shelf ecoregion), and in the Pacific North Coast Integrated Management Area (PNCIMA, northern shelf ecoregion).\\n\\nInitial assessment of IA's in PNCIMA was carried out in September 2004 to March 2005 with spatial data collection coordinated by Cathryn Clarke. Subsequent efforts in WCVI and SOG were conducted in 2009, and may have used different scientific advisors, temporal extents, data, and assessment methods. WCVI and SOG IA assessment in some cases revisits data collected for PNCIMA, but should be treated as a separate effort.\\n\\nOther datasets in this series detail IAs for birds, coral and sponges, fish, geographic features, invertebrates, and other vertebrates.\\n\\nThough data collection is considered complete, the emergence of significant new data may merit revisiting of IA's on a case by case basis. Environmental planning, Marine ecosystems, IA, EBSA, Important Areas, British Columbia, Strait of Georgia, Salish Sea, Environmental quality, Ecology, Whales\n",
      "\n",
      "\n",
      "Cleaned:  important areas cetaceans strait georgia ecoregion layer details important areas ias relevant key cetacean species strait georgia sog ecoregion data mapped inform selection marine ecologically biologically significant areas ebsa experts indicated areas relevant based upon high ranking one three criteria uniqueness aggregation fitness consequences distribution ia within ecoregions used designation oceans act provides legislative framework integrated ecosystem approach management canadian oceans particularly areas considered ecologically biologically significant dfo developed general guidance identification ecologically biologically significant areas criteria defining areas include uniqueness aggregation fitness consequences resilience naturalness science advisory process identifies proposed ebsas canadian pacific marine waters specifically strait georgia sog along west coast vancouver island wcvi southern shelf ecoregion pacific north coast integrated management area pncima northern shelf ecoregion assessment ia pncima carried september 2004 march 2005 spatial data collection coordinated cathryn clarke subsequent efforts wcvi sog conducted 2009 may used different scientific advisors temporal extents data assessment methods wcvi sog ia assessment cases revisits data collected pncima treated separate datasets series detail ias birds coral sponges fish geographic features invertebrates data collection considered complete emergence significant new data may merit revisiting ia case case basis environmental planning marine ecosystems ia ebsa important areas british columbia strait georgia salish sea environmental quality ecology whales\n"
     ]
    }
   ],
   "source": [
    "# An example of cleaned text \n",
    "print('For dataset {} \\n'.format(df_en.loc[442]['features_properties_title_en']))\n",
    "print('Original:  {}'.format(df_en.loc[442]['metadata_en']))\n",
    "print(\"\\n\")\n",
    "print('Cleaned:  {}'.format(df_en.loc[442]['metadata_en_preprocessed_token']))"
   ]
  },
  {
   "attachments": {},
   "cell_type": "markdown",
   "id": "5ef66711",
   "metadata": {},
   "source": [
    "## Check the duplication before export the processed data"
   ]
  },
  {
   "cell_type": "code",

   "execution_count": 53,

   "id": "08085237",
   "metadata": {},
   "outputs": [
    {
     "data": {
      "text/plain": [
       "((7153, 7),\n",
       " features_properties_id                0\n",
       " features_properties_title_en          0\n",
       " features_properties_description_en    0\n",
       " features_properties_keywords_en       0\n",
       " metadata_en                           0\n",
       " metadata_en_processed                 0\n",
       " metadata_en_preprocessed_token        0\n",
       " dtype: int64,\n",
       " features_properties_id                7153\n",
       " features_properties_title_en          6930\n",
       " features_properties_description_en    5604\n",
       " features_properties_keywords_en       3779\n",
       " metadata_en                           7153\n",
       " metadata_en_processed                 7149\n",
       " metadata_en_preprocessed_token        6849\n",
       " dtype: int64)"
      ]
     },
     "execution_count": 53,

     "metadata": {},
     "output_type": "execute_result"
    }
   ],
   "source": [
    "# Get the shape of the dataframe\n",
    "shape_training = df_en.shape\n",
    "# Count the number of missing values in each column\n",
    "missing_values_training = df_en.isnull().sum()\n",
    "# Count the number of unique values in each column\n",
    "unique_values_training = df_en.nunique()\n",
    "\n",
    "shape_training, missing_values_training, unique_values_training"
   ]
  },
  {
   "cell_type": "code",

   "execution_count": 54,

   "id": "663c9e64",
   "metadata": {},
   "outputs": [
    {
     "data": {
      "text/plain": [
       "(6849, 7)"
      ]
     },

     "execution_count": 54,

     "metadata": {},
     "output_type": "execute_result"
    }
   ],
   "source": [
    "\n",
    "# Remove duplicates based on 'metadata_en_preprocessed_token'\n",
    "df_en_deduplicated = df_en.drop_duplicates(subset='metadata_en_preprocessed_token')\n",
    "# Display the first few rows of the deduplicated dataframe\n",
    "df_en_deduplicated.head()\n",
    "# Check the shape of the deduplicated dataframe\n",
    "shape_deduplicated = df_en_deduplicated.shape\n",
    "shape_deduplicated"
   ]
  },
  {
   "cell_type": "code",

   "execution_count": 55,

   "id": "20d6c0e6",
   "metadata": {},
   "outputs": [
    {
     "data": {
      "text/html": [
       "<div>\n",
       "<style scoped>\n",
       "    .dataframe tbody tr th:only-of-type {\n",
       "        vertical-align: middle;\n",
       "    }\n",
       "\n",
       "    .dataframe tbody tr th {\n",
       "        vertical-align: top;\n",
       "    }\n",
       "\n",
       "    .dataframe thead th {\n",
       "        text-align: right;\n",
       "    }\n",
       "</style>\n",
       "<table border=\"1\" class=\"dataframe\">\n",
       "  <thead>\n",
       "    <tr style=\"text-align: right;\">\n",
       "      <th></th>\n",
       "      <th>features_properties_id</th>\n",
       "      <th>features_properties_title_en</th>\n",
       "      <th>metadata_en_processed</th>\n",
       "      <th>metadata_en_preprocessed_token</th>\n",
       "    </tr>\n",
       "  </thead>\n",
       "  <tbody>\n",
       "    <tr>\n",
       "      <th>6530</th>\n",
       "      <td>CGDIWH-161640</td>\n",
       "      <td>2021 Cartographic Boundary Files (FLC)</td>\n",

       "      <td>2021 cartographic boundary files (flc) 2021 ca...</td>\n",

       "      <td>2021 cartographic boundary files flc 2021 cart...</td>\n",
       "    </tr>\n",
       "    <tr>\n",
       "      <th>4675</th>\n",
       "      <td>d95901e9-e710-cf6a-bb80-31c2c9111439</td>\n",
       "      <td>Schools Offering the Pre-primary Program</td>\n",

       "      <td>schools offering pre-primary program list scho...</td>\n",

       "      <td>schools offering program list schools offering...</td>\n",
       "    </tr>\n",
       "    <tr>\n",
       "      <th>5305</th>\n",
       "      <td>7467e377-7dad-863d-d253-d0c7cb1819b4</td>\n",
       "      <td>First vertical derivative of the magnetic fiel...</td>\n",

       "      <td>first vertical derivative magnetic field, eagl...</td>\n",

       "      <td>first vertical derivative magnetic field eagle...</td>\n",
       "    </tr>\n",
       "    <tr>\n",
       "      <th>233</th>\n",
       "      <td>8ba7bced-b63f-462a-a8a1-7c7c8a7bcfa4</td>\n",
       "      <td>Sponge Reef Areas of the Pacific Region</td>\n",
       "      <td>sponge reef areas pacific region sponge reefs ...</td>\n",
       "      <td>sponge reef areas pacific region sponge reefs ...</td>\n",
       "    </tr>\n",
       "    <tr>\n",
       "      <th>6075</th>\n",
       "      <td>CGDIWH-87590</td>\n",
       "      <td>Science Strategies Summary by CCS (2016)</td>\n",

       "      <td>science strategies summary ccs (2016) \"science...</td>\n",

       "      <td>science strategies summary ccs 2016 science st...</td>\n",
       "    </tr>\n",
       "  </tbody>\n",
       "</table>\n",
       "</div>"
      ],
      "text/plain": [
       "                    features_properties_id  \\\n",
       "6530                         CGDIWH-161640   \n",
       "4675  d95901e9-e710-cf6a-bb80-31c2c9111439   \n",
       "5305  7467e377-7dad-863d-d253-d0c7cb1819b4   \n",
       "233   8ba7bced-b63f-462a-a8a1-7c7c8a7bcfa4   \n",
       "6075                          CGDIWH-87590   \n",
       "\n",
       "                           features_properties_title_en  \\\n",
       "6530             2021 Cartographic Boundary Files (FLC)   \n",
       "4675           Schools Offering the Pre-primary Program   \n",
       "5305  First vertical derivative of the magnetic fiel...   \n",
       "233             Sponge Reef Areas of the Pacific Region   \n",
       "6075           Science Strategies Summary by CCS (2016)   \n",
       "\n",
       "                                  metadata_en_processed  \\\n",

       "6530  2021 cartographic boundary files (flc) 2021 ca...   \n",
       "4675  schools offering pre-primary program list scho...   \n",
       "5305  first vertical derivative magnetic field, eagl...   \n",
       "233   sponge reef areas pacific region sponge reefs ...   \n",
       "6075  science strategies summary ccs (2016) \"science...   \n",

       "\n",
       "                         metadata_en_preprocessed_token  \n",
       "6530  2021 cartographic boundary files flc 2021 cart...  \n",
       "4675  schools offering program list schools offering...  \n",
       "5305  first vertical derivative magnetic field eagle...  \n",
       "233   sponge reef areas pacific region sponge reefs ...  \n",
       "6075  science strategies summary ccs 2016 science st...  "
      ]
     },

     "execution_count": 30,

     "metadata": {},
     "output_type": "execute_result"
    }
   ],
   "source": [
    "\n",
    "# Export the preprocessed data to csv\n",
    "df_sample = df_en_deduplicated[['features_properties_id', 'features_properties_title_en', 'metadata_en_processed','metadata_en_preprocessed_token']]\n",
    "df_sample = df_sample.sample(n=500, random_state=1)\n",
    "df_sample.head()\n",
    "#df_sample.to_csv('df_training.csv', index=False)\n"
   ]
  },
  {
   "attachments": {},
   "cell_type": "markdown",
   "id": "c7a433f8",
   "metadata": {},
   "source": [
    "### Upload to S3 bucket "
   ]
  },
  {
   "cell_type": "code",
   "execution_count": 31,
   "id": "d677b53b",
   "metadata": {},
   "outputs": [
    {
     "name": "stdout",
     "output_type": "stream",
     "text": [
      "Uploading Processed_records.parquet to nlp-data-preprocessing as parquet file\n"
     ]
    },
    {
     "data": {
      "text/plain": [
       "True"
      ]
     },
     "execution_count": 31,
     "metadata": {},
     "output_type": "execute_result"
    }
   ],
   "source": [
    "bucket_name_nlp='nlp-data-preprocessing'\n",
    "#upload_dataframe_to_s3_as_parquet(df=duplicateRowsDF,  bucket_name=bucket_name_nlp, file_key='Duplicated_records.parquet')  \n",
    "upload_dataframe_to_s3_as_parquet(df=df_en, bucket_name=bucket_name_nlp, file_key='Processed_records.parquet')"
   ]
  },
  {
   "cell_type": "code",

   "execution_count": null,
   "id": "ac3a67bc",

   "metadata": {},
   "outputs": [],
   "source": []
  }
 ],
 "metadata": {
  "kernelspec": {
   "display_name": "DS",
   "language": "python",
   "name": "python3"
  },
  "language_info": {
   "codemirror_mode": {
    "name": "ipython",
    "version": 3
   },
   "file_extension": ".py",
   "mimetype": "text/x-python",
   "name": "python",
   "nbconvert_exporter": "python",
   "pygments_lexer": "ipython3",
   "version": "3.9.17"
  },
  "vscode": {
   "interpreter": {
    "hash": "880e9905db2638da2696d39cdb1a889de8d37ebc57d2ab6d4d23eef8a9b0927f"
   }
  }
 },
 "nbformat": 4,
 "nbformat_minor": 5
}
