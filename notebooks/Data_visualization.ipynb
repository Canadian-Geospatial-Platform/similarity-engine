{
 "cells": [
  {
   "cell_type": "code",
   "execution_count": 1,
   "metadata": {},
   "outputs": [],
   "source": [
    "import boto3\n",
    "import logging \n",
    "from botocore.exceptions import ClientError\n",
    "import matplotlib.pyplot as plt \n",
    "\n",
    "import pandas as pd \n",
    "import io"
   ]
  },
  {
   "attachments": {},
   "cell_type": "markdown",
   "metadata": {},
   "source": [
    "## Load data "
   ]
  },
  {
   "cell_type": "code",
   "execution_count": 2,
   "metadata": {},
   "outputs": [
    {
     "name": "stdout",
     "output_type": "stream",
     "text": [
      "Loading records.parquet from webpresence-geocore-geojson-to-parquet-dev to pandas dataframe\n",
      "Loading Processed_records.parquet from nlp-data-preprocessing to pandas dataframe\n"
     ]
    }
   ],
   "source": [
    "# Function to read the parquet file as pandas dataframe \n",
    "def open_S3_file_as_df(bucket_name, file_name):\n",
    "    \"\"\"Open a S3 parquet file from bucket and filename and return the parquet as pandas dataframe\n",
    "    :param bucket_name: Bucket name\n",
    "    :param file_name: Specific file name to open\n",
    "    :return: body of the file as a string\n",
    "    \"\"\"\n",
    "    try: \n",
    "        s3 = boto3.resource('s3')\n",
    "        object = s3.Object(bucket_name, file_name)\n",
    "        body = object.get()['Body'].read()\n",
    "        df = pd.read_parquet(io.BytesIO(body))\n",
    "        print(f'Loading {file_name} from {bucket_name} to pandas dataframe')\n",
    "        return df\n",
    "    except ClientError as e:\n",
    "        logging.error(e)\n",
    "        return e\n",
    "file_name = \"records.parquet\"\n",
    "bucket_name = \"webpresence-geocore-geojson-to-parquet-dev\"\n",
    "bucket_name_nlp='nlp-data-preprocessing'\n",
    "df_raw = open_S3_file_as_df(bucket_name, 'records.parquet')\n",
    "df_clean = open_S3_file_as_df(bucket_name_nlp, 'Processed_records.parquet')\n"
   ]
  },
  {
   "attachments": {},
   "cell_type": "markdown",
   "metadata": {},
   "source": [
    "## Simple cleaning before visualization \n",
    "Here, we will start with the raw dataset.\n",
    "* Duplicate rows have been removed.\n",
    "* Columns with more than 50% missing values have been removed, leaving us with 43 columns.\n",
    "* Remaining missing values in categorical columns have been filled with 'Unknown'.\n",
    "* The single numerical column ('features_popularity') did not have any missing values, so no filling was needed there.\n",
    "* Remove columns with French text \n",
    "* Subset to columns with meaningful information "
   ]
  },
  {
   "cell_type": "code",
   "execution_count": 3,
   "metadata": {},
   "outputs": [
    {
     "name": "stdout",
     "output_type": "stream",
     "text": [
      "<class 'pandas.core.frame.DataFrame'>\n",
      "RangeIndex: 7343 entries, 0 to 7342\n",
      "Data columns (total 68 columns):\n",
      " #   Column                                                         Non-Null Count  Dtype \n",
      "---  ------                                                         --------------  ----- \n",
      " 0   features_type                                                  7343 non-null   string\n",
      " 1   features_geometry_type                                         7343 non-null   string\n",
      " 2   features_geometry_coordinates                                  7343 non-null   string\n",
      " 3   features_properties_id                                         7343 non-null   object\n",
      " 4   features_properties_title_en                                   7342 non-null   string\n",
      " 5   features_properties_title_fr                                   7342 non-null   string\n",
      " 6   features_properties_description_en                             7343 non-null   string\n",
      " 7   features_properties_description_fr                             7343 non-null   string\n",
      " 8   features_properties_keywords_en                                6194 non-null   string\n",
      " 9   features_properties_keywords_fr                                6194 non-null   string\n",
      " 10  features_properties_topicCategory                              7343 non-null   string\n",
      " 11  features_properties_parentIdentifier                           821 non-null    string\n",
      " 12  features_properties_date_published_text                        7322 non-null   string\n",
      " 13  features_properties_date_published_date                        7321 non-null   string\n",
      " 14  features_properties_date_created_text                          7312 non-null   string\n",
      " 15  features_properties_date_created_date                          7312 non-null   string\n",
      " 16  features_properties_date_revision_text                         1317 non-null   string\n",
      " 17  features_properties_date_revision_date                         1317 non-null   string\n",
      " 18  features_properties_date_notavailable_text                     1149 non-null   string\n",
      " 19  features_properties_date_notavailable_date                     1149 non-null   string\n",
      " 20  features_properties_date_inforce_text                          1149 non-null   string\n",
      " 21  features_properties_date_inforce_date                          1149 non-null   string\n",
      " 22  features_properties_date_adopted_text                          1149 non-null   string\n",
      " 23  features_properties_date_adopted_date                          1149 non-null   string\n",
      " 24  features_properties_date_deprecated_text                       1149 non-null   string\n",
      " 25  features_properties_date_deprecated_date                       1149 non-null   string\n",
      " 26  features_properties_date_superceded_text                       1149 non-null   string\n",
      " 27  features_properties_date_superceded_date                       1149 non-null   string\n",
      " 28  features_properties_spatialRepresentation                      7236 non-null   string\n",
      " 29  features_properties_type                                       7343 non-null   string\n",
      " 30  features_properties_geometry                                   7343 non-null   string\n",
      " 31  features_properties_temporalExtent_begin                       7296 non-null   string\n",
      " 32  features_properties_temporalExtent_end                         4077 non-null   string\n",
      " 33  features_properties_refSys                                     6638 non-null   string\n",
      " 34  features_properties_refSys_version                             5761 non-null   string\n",
      " 35  features_properties_status                                     7343 non-null   string\n",
      " 36  features_properties_maintenance                                7343 non-null   string\n",
      " 37  features_properties_metadataStandard_en                        7163 non-null   string\n",
      " 38  features_properties_metadataStandard_fr                        7163 non-null   string\n",
      " 39  features_properties_metadataStandardVersion                    7082 non-null   string\n",
      " 40  features_properties_graphicOverview                            7343 non-null   string\n",
      " 41  features_properties_distributionFormat_name                    1957 non-null   string\n",
      " 42  features_properties_distributionFormat_format                  1957 non-null   string\n",
      " 43  features_properties_useLimits_en                               7272 non-null   string\n",
      " 44  features_properties_useLimits_fr                               7272 non-null   string\n",
      " 45  features_properties_accessConstraints                          6995 non-null   string\n",
      " 46  features_properties_otherConstraints_en                        1246 non-null   string\n",
      " 47  features_properties_otherConstraints_fr                        1246 non-null   string\n",
      " 48  features_properties_dateStamp                                  2823 non-null   string\n",
      " 49  features_properties_dataSetURI                                 1149 non-null   string\n",
      " 50  features_properties_locale_language                            7163 non-null   string\n",
      " 51  features_properties_locale_country                             7082 non-null   string\n",
      " 52  features_properties_locale_encoding                            7162 non-null   string\n",
      " 53  features_properties_language                                   7163 non-null   string\n",
      " 54  features_properties_characterSet                               7163 non-null   string\n",
      " 55  features_properties_environmentDescription                     1196 non-null   string\n",
      " 56  features_properties_supplementalInformation_en                 1388 non-null   string\n",
      " 57  features_properties_supplementalInformation_fr                 1388 non-null   string\n",
      " 58  features_properties_contact                                    7343 non-null   string\n",
      " 59  features_properties_credits                                    7343 non-null   string\n",
      " 60  features_properties_cited                                      7343 non-null   object\n",
      " 61  features_properties_distributor                                7343 non-null   object\n",
      " 62  features_properties_options                                    7343 non-null   string\n",
      " 63  features_properties_temporalExtent_end_@indeterminatePosition  25 non-null     string\n",
      " 64  features_properties_temporalExtent_end_#text                   22 non-null     string\n",
      " 65  features_properties_plugins                                    7343 non-null   object\n",
      " 66  features_properties_sourceSystemName                           1149 non-null   string\n",
      " 67  features_popularity                                            7343 non-null   int64 \n",
      "dtypes: int64(1), object(4), string(63)\n",
      "memory usage: 3.8+ MB\n"
     ]
    },
    {
     "data": {
      "text/plain": [
       "(None,\n",
       "   features_type features_geometry_type  \\\n",
       " 0       Feature                Polygon   \n",
       " 1       Feature                Polygon   \n",
       " 2       Feature                Polygon   \n",
       " 3       Feature                Polygon   \n",
       " 4       Feature                Polygon   \n",
       " \n",
       "                        features_geometry_coordinates  \\\n",
       " 0  [[[-141.003, 41.6755], [-52.6174, 41.6755], [-...   \n",
       " 1  [[[-142, 41], [-52, 41], [-52, 84], [-142, 84]...   \n",
       " 2  [[[-141.003, 41.6755], [-52.6174, 41.6755], [-...   \n",
       " 3  [[[-104.75571511, 50.42392886], [-104.56356008...   \n",
       " 4  [[[-141.003, 41.6755], [-52.6174, 41.6755], [-...   \n",
       " \n",
       "                  features_properties_id  \\\n",
       " 0  000183ed-8864-42f0-ae43-c4313a860720   \n",
       " 1  7f245e4d-76c2-4caa-951a-45d1d2051333   \n",
       " 2  085024ac-5a48-427a-a2ea-d62af73f2142   \n",
       " 3  03ccfb5c-a06e-43e3-80fd-09d4f8f69703   \n",
       " 4  488faf70-b50b-4749-ac1c-a1fd44e06f11   \n",
       " \n",
       "                         features_properties_title_en  \\\n",
       " 0  Principal Mineral Areas, Producing Mines, and ...   \n",
       " 1        Canadian Digital Elevation Model, 1945-2011   \n",
       " 2    Canada's National Earthquake Scenario Catalogue   \n",
       " 3  Temporal Series of the National Air Photo Libr...   \n",
       " 4                       Indigenous Mining Agreements   \n",
       " \n",
       "                         features_properties_title_fr  \\\n",
       " 0  Principales régions minières, principales mine...   \n",
       " 1  Modèle numérique d'élévation du Canada, 1945-2011   \n",
       " 2  Catalogue national de scénarios de tremblement...   \n",
       " 3  Série temporelle de la photothèque nationale d...   \n",
       " 4                      Ententes minières autochtones   \n",
       " \n",
       "                   features_properties_description_en  \\\n",
       " 0  This dataset is produced and published annuall...   \n",
       " 1  This collection is a legacy product that is no...   \n",
       " 2  The National Earthquake Scenario Catalogue, pr...   \n",
       " 3  Note: To visualize the data in the viewer, zoo...   \n",
       " 4  The Indigenous Mining Agreements dataset provi...   \n",
       " \n",
       "                   features_properties_description_fr  \\\n",
       " 0  Ce jeu de données est produit et publié annuel...   \n",
       " 1  Ce produit fait maintenant partie du patrimoin...   \n",
       " 2  Le dépôt est utilisé pour l’élaboration du cat...   \n",
       " 3  Note: Pour visualiser les données dans l’outil...   \n",
       " 4  Les données des ententes minières autochtones ...   \n",
       " \n",
       "                      features_properties_keywords_en  \\\n",
       " 0  mineralization, mineral occurrences, mines, hy...   \n",
       " 1  Canada, Earth Sciences, elevation, relief, geo...   \n",
       " 2  Emergency preparedness, Earth sciences, Earthq...   \n",
       " 3  Mosaic, Aerial photography, Access to informat...   \n",
       " 4  Indigenous, First Nations, Métis, Indigenous a...   \n",
       " \n",
       "                      features_properties_keywords_fr  ...  \\\n",
       " 0  minéralisation, indices minéralisés, mines, hy...  ...   \n",
       " 1  Canada, Sciences de la Terre, élévation, relie...  ...   \n",
       " 2  Protection civile, Sciences de la terre, Tremb...  ...   \n",
       " 3  Mosaïque, Photographie aérienne, Accès à l'inf...  ...   \n",
       " 4  Autochtones, Premières nations, Métis, Affaire...  ...   \n",
       " \n",
       "                          features_properties_contact  \\\n",
       " 0  [{\"individual\": \"null\", \"position\": {\"en\": \"nu...   \n",
       " 1  [{\"individual\": \"null\", \"position\": {\"en\": \"nu...   \n",
       " 2  [{\"individual\": \"Dr. Tiegan Hobbs\", \"position\"...   \n",
       " 3  [{\"individual\": \"null\", \"position\": {\"en\": \"nu...   \n",
       " 4  [{\"individual\": \"Melanie Campbell\", \"position\"...   \n",
       " \n",
       "   features_properties_credits  \\\n",
       " 0                          []   \n",
       " 1                          []   \n",
       " 2                          []   \n",
       " 3                          []   \n",
       " 4                          []   \n",
       " \n",
       "                            features_properties_cited  \\\n",
       " 0  [{\"individual\": \"null\", \"position\": {\"en\": \"nu...   \n",
       " 1  [{\"individual\": \"null\", \"position\": {\"en\": \"nu...   \n",
       " 2  [{\"individual\": \"Nicky Hastings\", \"position\": ...   \n",
       " 3  [{\"individual\": \"null\", \"position\": {\"en\": \"Na...   \n",
       " 4  [{\"individual\": \"null\", \"position\": {\"en\": \"nu...   \n",
       " \n",
       "                      features_properties_distributor  \\\n",
       " 0  [{\"individual\": \"null\", \"position\": {\"en\": \"nu...   \n",
       " 1  [{\"individual\": \"null\", \"position\": {\"en\": \"nu...   \n",
       " 2  [{\"individual\": \"null\", \"position\": {\"en\": \"nu...   \n",
       " 3  [{\"individual\": \"null\", \"position\": {\"en\": \"nu...   \n",
       " 4  [{\"individual\": \"null\", \"position\": {\"en\": \"nu...   \n",
       " \n",
       "                          features_properties_options  \\\n",
       " 0  [{\"url\": \"https://maps-cartes.services.geo.ca/...   \n",
       " 1  [{\"url\": \"https://maps.geogratis.gc.ca/wms/ele...   \n",
       " 2  [{\"url\": \"https://github.com/OpenDRR/earthquak...   \n",
       " 3  [{\"url\": \"https://datacube-prod-data-public.s3...   \n",
       " 4  [{\"url\": \"https://atlas.gc.ca/imaema/en/\", \"pr...   \n",
       " \n",
       "   features_properties_temporalExtent_end_@indeterminatePosition  \\\n",
       " 0                                               <NA>              \n",
       " 1                                               <NA>              \n",
       " 2                                               <NA>              \n",
       " 3                                               <NA>              \n",
       " 4                                               <NA>              \n",
       " \n",
       "   features_properties_temporalExtent_end_#text features_properties_plugins  \\\n",
       " 0                                         <NA>                          []   \n",
       " 1                                         <NA>                          []   \n",
       " 2                                         <NA>                          []   \n",
       " 3                                         <NA>                          []   \n",
       " 4                                         <NA>                          []   \n",
       " \n",
       "   features_properties_sourceSystemName features_popularity  \n",
       " 0                                 <NA>             1250806  \n",
       " 1                                 <NA>              210798  \n",
       " 2                                 <NA>              140088  \n",
       " 3                                 <NA>              120162  \n",
       " 4                                 <NA>              111036  \n",
       " \n",
       " [5 rows x 68 columns])"
      ]
     },
     "execution_count": 3,
     "metadata": {},
     "output_type": "execute_result"
    }
   ],
   "source": [
    "# Display the first few rows and the general information about the data\n",
    "df_raw_info = df_raw.info()\n",
    "df_raw_head = df_raw.head()\n",
    "\n",
    "df_raw_info, df_raw_head"
   ]
  },
  {
   "cell_type": "code",
   "execution_count": 4,
   "metadata": {},
   "outputs": [
    {
     "name": "stdout",
     "output_type": "stream",
     "text": [
      "<class 'pandas.core.frame.DataFrame'>\n",
      "Int64Index: 7343 entries, 0 to 7342\n",
      "Data columns (total 38 columns):\n",
      " #   Column                                       Non-Null Count  Dtype \n",
      "---  ------                                       --------------  ----- \n",
      " 0   features_type                                7343 non-null   string\n",
      " 1   features_geometry_type                       7343 non-null   string\n",
      " 2   features_geometry_coordinates                7343 non-null   string\n",
      " 3   features_properties_id                       7343 non-null   object\n",
      " 4   features_properties_title_en                 7342 non-null   string\n",
      " 5   features_properties_description_en           7343 non-null   string\n",
      " 6   features_properties_keywords_en              6194 non-null   string\n",
      " 7   features_properties_topicCategory            7343 non-null   string\n",
      " 8   features_properties_date_published_text      7322 non-null   string\n",
      " 9   features_properties_date_published_date      7321 non-null   string\n",
      " 10  features_properties_date_created_text        7312 non-null   string\n",
      " 11  features_properties_date_created_date        7312 non-null   string\n",
      " 12  features_properties_spatialRepresentation    7236 non-null   string\n",
      " 13  features_properties_type                     7343 non-null   string\n",
      " 14  features_properties_geometry                 7343 non-null   string\n",
      " 15  features_properties_temporalExtent_begin     7296 non-null   string\n",
      " 16  features_properties_temporalExtent_end       4077 non-null   string\n",
      " 17  features_properties_refSys                   6638 non-null   string\n",
      " 18  features_properties_refSys_version           5761 non-null   string\n",
      " 19  features_properties_status                   7343 non-null   string\n",
      " 20  features_properties_maintenance              7343 non-null   string\n",
      " 21  features_properties_metadataStandard_en      7163 non-null   string\n",
      " 22  features_properties_metadataStandardVersion  7082 non-null   string\n",
      " 23  features_properties_graphicOverview          7343 non-null   string\n",
      " 24  features_properties_useLimits_en             7272 non-null   string\n",
      " 25  features_properties_accessConstraints        6995 non-null   string\n",
      " 26  features_properties_locale_language          7163 non-null   string\n",
      " 27  features_properties_locale_country           7082 non-null   string\n",
      " 28  features_properties_locale_encoding          7162 non-null   string\n",
      " 29  features_properties_language                 7163 non-null   string\n",
      " 30  features_properties_characterSet             7163 non-null   string\n",
      " 31  features_properties_contact                  7343 non-null   string\n",
      " 32  features_properties_credits                  7343 non-null   string\n",
      " 33  features_properties_cited                    7343 non-null   object\n",
      " 34  features_properties_distributor              7343 non-null   object\n",
      " 35  features_properties_options                  7343 non-null   string\n",
      " 36  features_properties_plugins                  7343 non-null   object\n",
      " 37  features_popularity                          7343 non-null   int64 \n",
      "dtypes: int64(1), object(4), string(33)\n",
      "memory usage: 2.2+ MB\n"
     ]
    }
   ],
   "source": [
    "# Remove duplicate rows\n",
    "df_raw.drop_duplicates(inplace=True)\n",
    "\n",
    "# Remove columns with more than 50% missing values\n",
    "threshold = len(df_raw) * 0.5\n",
    "df_raw.dropna(thresh=threshold, axis=1, inplace=True)\n",
    "\n",
    "# Fill missing values\n",
    "# For categorical columns fill with 'Unknown'\n",
    "categorical_cols = df_raw.select_dtypes(include=['object']).columns\n",
    "df_raw[categorical_cols] = df_raw[categorical_cols].fillna('Unknown')\n",
    "\n",
    "# For numerical columns fill with median\n",
    "numerical_cols = df_raw.select_dtypes(include=['int64', 'float64']).columns\n",
    "for col in numerical_cols:\n",
    "    median_value = df_raw[col].median()\n",
    "    df_raw[col].fillna(median_value, inplace=True)\n",
    "\n",
    "# Identify the columns that contain \"_fr\" in their names\n",
    "cols_fr = [col for col in df_raw.columns if '_fr' in col]\n",
    "\n",
    "# Drop these columns\n",
    "df_raw.drop(columns=cols_fr, inplace=True)\n",
    "\n",
    "# Check the result\n",
    "df_raw.info()"
   ]
  },
  {
   "cell_type": "code",
   "execution_count": 5,
   "metadata": {},
   "outputs": [
    {
     "name": "stdout",
     "output_type": "stream",
     "text": [
      "(7343, 20)\n"
     ]
    }
   ],
   "source": [
    "# Subset the data to include only the columns of interest\n",
    "cols =  ['features_properties_id','features_geometry_coordinates', 'features_properties_title_en','features_properties_description_en','features_properties_keywords_en',\n",
    "         'features_properties_topicCategory', 'features_properties_date_published_date', 'features_properties_date_created_date', 'features_properties_temporalExtent_begin',\n",
    "         'features_properties_temporalExtent_end','features_properties_spatialRepresentation','features_properties_type','features_properties_geometry','features_properties_status',\n",
    "         'features_properties_metadataStandard_en','features_properties_metadataStandardVersion','features_properties_graphicOverview', 'features_properties_locale_language', \n",
    "         'features_properties_language','features_popularity']\n",
    "df = df_raw[cols]\n",
    "print(df.shape)"
   ]
  },
  {
   "cell_type": "code",
   "execution_count": 6,
   "metadata": {},
   "outputs": [],
   "source": [
    "df.to_csv('df_raw_cleaned.csv', index=False)"
   ]
  },
  {
   "attachments": {},
   "cell_type": "markdown",
   "metadata": {},
   "source": [
    "## Visualization \n",
    "given the nature of your dataset, which is mostly categorical and textual, we have limited options for numerical or continuous data visualization.\n",
    "\n",
    "* A pie chart of the different categories in the features_properties_spatialRepresentation column.\n",
    "* A pie chart of the different categories in the features_properties_topicCategory column.\n",
    "* A pie chart of the different categories in the features_properties_type column.\n",
    "* A pie chart of the different categories in the features_properties_status column.\n",
    "* A piechart features_properties_metadataStandard_en or features_properties_metadataStandardVersion\n",
    "* A pie chart of the different categories in the features_properties_locale_language column.\n",
    "* A histogram of the features_popularity column.\n",
    "* ?? [Word visual cloud](https://thecleverprogrammer.com/2021/11/11/word-cloud-from-a-pandas-dataframe-in-python/#:~:text=A%20word%20cloud%20is%20a,based%20on%20natural%20language%20processing) of features_properties_title_en, features_properties_description_en, features_properties_keywords_en\n",
    "\n",
    "\n",
    "* ?? Time range from features_properties_temporalExtent_begin and features_properties_temporalExtent_end \n",
    "* A pie chart of the different categories in the features_properties_graphicOverview (Y and N)\n",
    "\n"
   ]
  },
  {
   "cell_type": "code",
   "execution_count": 54,
   "metadata": {},
   "outputs": [
    {
     "name": "stdout",
     "output_type": "stream",
     "text": [
      "<StringArray>\n",
      "[                 'completed; complété',\n",
      " 'historicalArchive; archiveHistorique',\n",
      "                  'onGoing; enContinue',\n",
      "          'Not Available; Indisponible',\n",
      "                    'proposed; proposé',\n",
      "                    'planned; planifié',\n",
      "       'underDevelopment; enProduction',\n",
      "                              'unknown']\n",
      "Length: 8, dtype: string\n",
      "<StringArray>\n",
      "[            'vector; vecteur',                'grid; grille',\n",
      " 'Not Available; Indisponible',                          <NA>,\n",
      "       'textTable; texteTable',                'video; vidéo']\n",
      "Length: 6, dtype: string\n"
     ]
    },
    {
     "data": {
      "text/html": [
       "<div>\n",
       "<style scoped>\n",
       "    .dataframe tbody tr th:only-of-type {\n",
       "        vertical-align: middle;\n",
       "    }\n",
       "\n",
       "    .dataframe tbody tr th {\n",
       "        vertical-align: top;\n",
       "    }\n",
       "\n",
       "    .dataframe thead th {\n",
       "        text-align: right;\n",
       "    }\n",
       "</style>\n",
       "<table border=\"1\" class=\"dataframe\">\n",
       "  <thead>\n",
       "    <tr style=\"text-align: right;\">\n",
       "      <th></th>\n",
       "      <th>features_properties_id</th>\n",
       "      <th>features_geometry_coordinates</th>\n",
       "      <th>features_properties_title_en</th>\n",
       "      <th>features_properties_description_en</th>\n",
       "      <th>features_properties_keywords_en</th>\n",
       "      <th>features_properties_topicCategory</th>\n",
       "      <th>features_properties_date_published_date</th>\n",
       "      <th>features_properties_date_created_date</th>\n",
       "      <th>features_properties_temporalExtent_begin</th>\n",
       "      <th>features_properties_temporalExtent_end</th>\n",
       "      <th>...</th>\n",
       "      <th>features_properties_geometry</th>\n",
       "      <th>features_properties_status</th>\n",
       "      <th>features_properties_metadataStandard_en</th>\n",
       "      <th>features_properties_metadataStandardVersion</th>\n",
       "      <th>features_properties_graphicOverview</th>\n",
       "      <th>features_properties_locale_language</th>\n",
       "      <th>features_properties_language</th>\n",
       "      <th>features_popularity</th>\n",
       "      <th>year_published</th>\n",
       "      <th>year_created</th>\n",
       "    </tr>\n",
       "  </thead>\n",
       "  <tbody>\n",
       "    <tr>\n",
       "      <th>0</th>\n",
       "      <td>000183ed-8864-42f0-ae43-c4313a860720</td>\n",
       "      <td>[[[-141.003, 41.6755], [-52.6174, 41.6755], [-...</td>\n",
       "      <td>Principal Mineral Areas, Producing Mines, and ...</td>\n",
       "      <td>This dataset is produced and published annuall...</td>\n",
       "      <td>mineralization, mineral occurrences, mines, hy...</td>\n",
       "      <td>economy</td>\n",
       "      <td>2020-02-27</td>\n",
       "      <td>2019-04-12</td>\n",
       "      <td>2020-01</td>\n",
       "      <td>2020-12</td>\n",
       "      <td>...</td>\n",
       "      <td>POLYGON((-141.003 41.6755, -52.6174 41.6755, -...</td>\n",
       "      <td>completed; complété</td>\n",
       "      <td>North American Profile of ISO 19115:2003 - Geo...</td>\n",
       "      <td>CAN/CGSB-171.100-2009</td>\n",
       "      <td>[{\"overviewFileName\": \"http://ftp.maps.canada....</td>\n",
       "      <td>French; Français</td>\n",
       "      <td>eng; CAN</td>\n",
       "      <td>1250806</td>\n",
       "      <td>2020</td>\n",
       "      <td>2019</td>\n",
       "    </tr>\n",
       "    <tr>\n",
       "      <th>1</th>\n",
       "      <td>7f245e4d-76c2-4caa-951a-45d1d2051333</td>\n",
       "      <td>[[[-142, 41], [-52, 41], [-52, 84], [-142, 84]...</td>\n",
       "      <td>Canadian Digital Elevation Model, 1945-2011</td>\n",
       "      <td>This collection is a legacy product that is no...</td>\n",
       "      <td>Canada, Earth Sciences, elevation, relief, geo...</td>\n",
       "      <td>elevation</td>\n",
       "      <td>2015</td>\n",
       "      <td>2012-11-06</td>\n",
       "      <td>1945</td>\n",
       "      <td>2011</td>\n",
       "      <td>...</td>\n",
       "      <td>POLYGON((-142 41, -52 41, -52 84, -142 84, -14...</td>\n",
       "      <td>historicalArchive; archiveHistorique</td>\n",
       "      <td>North American Profile of ISO 19115:2003 - Geo...</td>\n",
       "      <td>CAN/CGSB-171.100-2009</td>\n",
       "      <td>[{\"overviewFileName\": \"https://ftp.maps.canada...</td>\n",
       "      <td>French; Français</td>\n",
       "      <td>eng; CAN</td>\n",
       "      <td>210798</td>\n",
       "      <td>2015</td>\n",
       "      <td>2012</td>\n",
       "    </tr>\n",
       "    <tr>\n",
       "      <th>2</th>\n",
       "      <td>085024ac-5a48-427a-a2ea-d62af73f2142</td>\n",
       "      <td>[[[-141.003, 41.6755], [-52.6174, 41.6755], [-...</td>\n",
       "      <td>Canada's National Earthquake Scenario Catalogue</td>\n",
       "      <td>The National Earthquake Scenario Catalogue, pr...</td>\n",
       "      <td>Emergency preparedness, Earth sciences, Earthq...</td>\n",
       "      <td>geoscientificInformation</td>\n",
       "      <td>2021-07-06</td>\n",
       "      <td>2021-07-06</td>\n",
       "      <td>2021-07-06</td>\n",
       "      <td>&lt;NA&gt;</td>\n",
       "      <td>...</td>\n",
       "      <td>POLYGON((-141.003 41.6755, -52.6174 41.6755, -...</td>\n",
       "      <td>onGoing; enContinue</td>\n",
       "      <td>North American Profile of ISO 19115:2003 - Geo...</td>\n",
       "      <td>CAN/CGSB-171.100-2009</td>\n",
       "      <td>[]</td>\n",
       "      <td>French; Français</td>\n",
       "      <td>eng; CAN</td>\n",
       "      <td>140088</td>\n",
       "      <td>2021</td>\n",
       "      <td>2021</td>\n",
       "    </tr>\n",
       "    <tr>\n",
       "      <th>3</th>\n",
       "      <td>03ccfb5c-a06e-43e3-80fd-09d4f8f69703</td>\n",
       "      <td>[[[-104.75571511, 50.42392886], [-104.56356008...</td>\n",
       "      <td>Temporal Series of the National Air Photo Libr...</td>\n",
       "      <td>Note: To visualize the data in the viewer, zoo...</td>\n",
       "      <td>Mosaic, Aerial photography, Access to informat...</td>\n",
       "      <td>imageryBaseMapsEarthCover</td>\n",
       "      <td>2021-03-31</td>\n",
       "      <td>2020-08-01</td>\n",
       "      <td>1947</td>\n",
       "      <td>1967</td>\n",
       "      <td>...</td>\n",
       "      <td>POLYGON((-104.75571511 50.42392886, -104.56356...</td>\n",
       "      <td>completed; complété</td>\n",
       "      <td>North American Profile of ISO 19115:2003 - Geo...</td>\n",
       "      <td>CAN/CGSB-171.100-2009</td>\n",
       "      <td>[{\"overviewFileName\": \"http://datacube-prod-da...</td>\n",
       "      <td>French; Français</td>\n",
       "      <td>eng; CAN</td>\n",
       "      <td>120162</td>\n",
       "      <td>2021</td>\n",
       "      <td>2020</td>\n",
       "    </tr>\n",
       "    <tr>\n",
       "      <th>4</th>\n",
       "      <td>488faf70-b50b-4749-ac1c-a1fd44e06f11</td>\n",
       "      <td>[[[-141.003, 41.6755], [-52.6174, 41.6755], [-...</td>\n",
       "      <td>Indigenous Mining Agreements</td>\n",
       "      <td>The Indigenous Mining Agreements dataset provi...</td>\n",
       "      <td>Indigenous, First Nations, Métis, Indigenous a...</td>\n",
       "      <td>environment, society</td>\n",
       "      <td>2019-06-10</td>\n",
       "      <td>2017-12-31</td>\n",
       "      <td>1970</td>\n",
       "      <td>&lt;NA&gt;</td>\n",
       "      <td>...</td>\n",
       "      <td>POLYGON((-141.003 41.6755, -52.6174 41.6755, -...</td>\n",
       "      <td>onGoing; enContinue</td>\n",
       "      <td>North American Profile of ISO 19115:2003 - Geo...</td>\n",
       "      <td>CAN/CGSB-171.100-2009</td>\n",
       "      <td>[{\"overviewFileName\": \"https://ftp.maps.canada...</td>\n",
       "      <td>French; Français</td>\n",
       "      <td>eng; CAN</td>\n",
       "      <td>111036</td>\n",
       "      <td>2019</td>\n",
       "      <td>2017</td>\n",
       "    </tr>\n",
       "  </tbody>\n",
       "</table>\n",
       "<p>5 rows × 22 columns</p>\n",
       "</div>"
      ],
      "text/plain": [
       "                 features_properties_id  \\\n",
       "0  000183ed-8864-42f0-ae43-c4313a860720   \n",
       "1  7f245e4d-76c2-4caa-951a-45d1d2051333   \n",
       "2  085024ac-5a48-427a-a2ea-d62af73f2142   \n",
       "3  03ccfb5c-a06e-43e3-80fd-09d4f8f69703   \n",
       "4  488faf70-b50b-4749-ac1c-a1fd44e06f11   \n",
       "\n",
       "                       features_geometry_coordinates  \\\n",
       "0  [[[-141.003, 41.6755], [-52.6174, 41.6755], [-...   \n",
       "1  [[[-142, 41], [-52, 41], [-52, 84], [-142, 84]...   \n",
       "2  [[[-141.003, 41.6755], [-52.6174, 41.6755], [-...   \n",
       "3  [[[-104.75571511, 50.42392886], [-104.56356008...   \n",
       "4  [[[-141.003, 41.6755], [-52.6174, 41.6755], [-...   \n",
       "\n",
       "                        features_properties_title_en  \\\n",
       "0  Principal Mineral Areas, Producing Mines, and ...   \n",
       "1        Canadian Digital Elevation Model, 1945-2011   \n",
       "2    Canada's National Earthquake Scenario Catalogue   \n",
       "3  Temporal Series of the National Air Photo Libr...   \n",
       "4                       Indigenous Mining Agreements   \n",
       "\n",
       "                  features_properties_description_en  \\\n",
       "0  This dataset is produced and published annuall...   \n",
       "1  This collection is a legacy product that is no...   \n",
       "2  The National Earthquake Scenario Catalogue, pr...   \n",
       "3  Note: To visualize the data in the viewer, zoo...   \n",
       "4  The Indigenous Mining Agreements dataset provi...   \n",
       "\n",
       "                     features_properties_keywords_en  \\\n",
       "0  mineralization, mineral occurrences, mines, hy...   \n",
       "1  Canada, Earth Sciences, elevation, relief, geo...   \n",
       "2  Emergency preparedness, Earth sciences, Earthq...   \n",
       "3  Mosaic, Aerial photography, Access to informat...   \n",
       "4  Indigenous, First Nations, Métis, Indigenous a...   \n",
       "\n",
       "  features_properties_topicCategory features_properties_date_published_date  \\\n",
       "0                           economy                              2020-02-27   \n",
       "1                         elevation                                    2015   \n",
       "2          geoscientificInformation                              2021-07-06   \n",
       "3         imageryBaseMapsEarthCover                              2021-03-31   \n",
       "4              environment, society                              2019-06-10   \n",
       "\n",
       "  features_properties_date_created_date  \\\n",
       "0                            2019-04-12   \n",
       "1                            2012-11-06   \n",
       "2                            2021-07-06   \n",
       "3                            2020-08-01   \n",
       "4                            2017-12-31   \n",
       "\n",
       "  features_properties_temporalExtent_begin  \\\n",
       "0                                  2020-01   \n",
       "1                                     1945   \n",
       "2                               2021-07-06   \n",
       "3                                     1947   \n",
       "4                                     1970   \n",
       "\n",
       "  features_properties_temporalExtent_end  ...  \\\n",
       "0                                2020-12  ...   \n",
       "1                                   2011  ...   \n",
       "2                                   <NA>  ...   \n",
       "3                                   1967  ...   \n",
       "4                                   <NA>  ...   \n",
       "\n",
       "                        features_properties_geometry  \\\n",
       "0  POLYGON((-141.003 41.6755, -52.6174 41.6755, -...   \n",
       "1  POLYGON((-142 41, -52 41, -52 84, -142 84, -14...   \n",
       "2  POLYGON((-141.003 41.6755, -52.6174 41.6755, -...   \n",
       "3  POLYGON((-104.75571511 50.42392886, -104.56356...   \n",
       "4  POLYGON((-141.003 41.6755, -52.6174 41.6755, -...   \n",
       "\n",
       "             features_properties_status  \\\n",
       "0                   completed; complété   \n",
       "1  historicalArchive; archiveHistorique   \n",
       "2                   onGoing; enContinue   \n",
       "3                   completed; complété   \n",
       "4                   onGoing; enContinue   \n",
       "\n",
       "             features_properties_metadataStandard_en  \\\n",
       "0  North American Profile of ISO 19115:2003 - Geo...   \n",
       "1  North American Profile of ISO 19115:2003 - Geo...   \n",
       "2  North American Profile of ISO 19115:2003 - Geo...   \n",
       "3  North American Profile of ISO 19115:2003 - Geo...   \n",
       "4  North American Profile of ISO 19115:2003 - Geo...   \n",
       "\n",
       "  features_properties_metadataStandardVersion  \\\n",
       "0                       CAN/CGSB-171.100-2009   \n",
       "1                       CAN/CGSB-171.100-2009   \n",
       "2                       CAN/CGSB-171.100-2009   \n",
       "3                       CAN/CGSB-171.100-2009   \n",
       "4                       CAN/CGSB-171.100-2009   \n",
       "\n",
       "                 features_properties_graphicOverview  \\\n",
       "0  [{\"overviewFileName\": \"http://ftp.maps.canada....   \n",
       "1  [{\"overviewFileName\": \"https://ftp.maps.canada...   \n",
       "2                                                 []   \n",
       "3  [{\"overviewFileName\": \"http://datacube-prod-da...   \n",
       "4  [{\"overviewFileName\": \"https://ftp.maps.canada...   \n",
       "\n",
       "  features_properties_locale_language features_properties_language  \\\n",
       "0                    French; Français                     eng; CAN   \n",
       "1                    French; Français                     eng; CAN   \n",
       "2                    French; Français                     eng; CAN   \n",
       "3                    French; Français                     eng; CAN   \n",
       "4                    French; Français                     eng; CAN   \n",
       "\n",
       "  features_popularity year_published  year_created  \n",
       "0             1250806           2020          2019  \n",
       "1              210798           2015          2012  \n",
       "2              140088           2021          2021  \n",
       "3              120162           2021          2020  \n",
       "4              111036           2019          2017  \n",
       "\n",
       "[5 rows x 22 columns]"
      ]
     },
     "execution_count": 54,
     "metadata": {},
     "output_type": "execute_result"
    }
   ],
   "source": [
    "print(df_raw['features_properties_status'].unique())\n",
    "print(df_raw['features_properties_spatialRepresentation'].unique())\n",
    "df.head()"
   ]
  },
  {
   "cell_type": "code",
   "execution_count": 6,
   "metadata": {},
   "outputs": [
    {
     "name": "stderr",
     "output_type": "stream",
     "text": [
      "C:\\Users\\xcai\\AppData\\Local\\Temp\\ipykernel_28212\\2938570975.py:3: UserWarning: \n",
      "The dash_core_components package is deprecated. Please replace\n",
      "`import dash_core_components as dcc` with `from dash import dcc`\n",
      "  import dash_core_components as dcc\n",
      "C:\\Users\\xcai\\AppData\\Local\\Temp\\ipykernel_28212\\2938570975.py:4: UserWarning: \n",
      "The dash_html_components package is deprecated. Please replace\n",
      "`import dash_html_components as html` with `from dash import html`\n",
      "  import dash_html_components as html\n"
     ]
    }
   ],
   "source": [
    "# pip install dash dash_core_components dash_html_components plotly pandas wordcloud\n",
    "import dash\n",
    "import dash_core_components as dcc\n",
    "import dash_html_components as html\n",
    "import plotly.express as px\n",
    "import pandas as pd\n",
    "import numpy as np\n",
    "from wordcloud import WordCloud\n",
    "from wordcloud import ImageColorGenerator\n",
    "from wordcloud import STOPWORDS\n",
    "from PIL import Image\n",
    "import io\n",
    "import base64\n",
    "\n",
    "import nltk\n",
    "from nltk.corpus import stopwords          # module for stop words that come with NLTK\n",
    "from nltk.stem import PorterStemmer        # module for stemming\n",
    "from nltk.tokenize import word_tokenize   # module for tokenizing strings                            # for string operations\n",
    "import re\n",
    "import nbformat"
   ]
  },
  {
   "attachments": {},
   "cell_type": "markdown",
   "metadata": {},
   "source": [
    "For the interactive dashboard, we will include the following features. \n",
    "1.  A section showing the overall description of the data \n",
    "2. A section showing the most common topic categories, statuses using bar chars,  showing the spatial representations, feature types, , metadata standards, locale languages, and languages using pie chart \n",
    "3. Two bar charts showing the years in which the most features were published and created, with a slider or input box to adjust the range of years displayed.\n",
    "4. A histogram showing the distribution of the popularity scores, with sliders or input boxes to adjust the range of scores displayed.\n",
    "5. A word visual cloud to show the condatinate of of features_properties_title_en, features_properties_description_en, features_properties_keywords_en\n"
   ]
  },
  {
   "cell_type": "code",
   "execution_count": 7,
   "metadata": {},
   "outputs": [],
   "source": [
    "# Create dataframes for the visuals\n",
    "df_topic = df['features_properties_topicCategory'].value_counts().reset_index().head(10)\n",
    "df_spatial = df['features_properties_spatialRepresentation'].value_counts().reset_index()\n",
    "df_status = df['features_properties_status'].value_counts().reset_index().head(10)\n",
    "df_type = df['features_properties_type'].value_counts().reset_index().head(10)\n",
    "df_standard = df['features_properties_metadataStandard_en'].value_counts().reset_index().head(10)\n",
    "#TODO language\n",
    "#TODO popularity slider \n",
    "#TODO temporal extent slider\n",
    "df_language = df['features_properties_language'].value_counts().reset_index().head(10)"
   ]
  },
  {
   "cell_type": "code",
   "execution_count": 8,
   "metadata": {},
   "outputs": [
    {
     "name": "stderr",
     "output_type": "stream",
     "text": [
      "C:\\Users\\xcai\\AppData\\Local\\Temp\\ipykernel_28212\\3795541707.py:15: SettingWithCopyWarning: \n",
      "A value is trying to be set on a copy of a slice from a DataFrame.\n",
      "Try using .loc[row_indexer,col_indexer] = value instead\n",
      "\n",
      "See the caveats in the documentation: https://pandas.pydata.org/pandas-docs/stable/user_guide/indexing.html#returning-a-view-versus-a-copy\n",
      "  df['year_published'] = df['features_properties_date_published_date'].apply(extract_year)\n",
      "C:\\Users\\xcai\\AppData\\Local\\Temp\\ipykernel_28212\\3795541707.py:16: SettingWithCopyWarning: \n",
      "A value is trying to be set on a copy of a slice from a DataFrame.\n",
      "Try using .loc[row_indexer,col_indexer] = value instead\n",
      "\n",
      "See the caveats in the documentation: https://pandas.pydata.org/pandas-docs/stable/user_guide/indexing.html#returning-a-view-versus-a-copy\n",
      "  df['year_created'] = df['features_properties_date_created_date'].apply(extract_year)\n",
      "C:\\Users\\xcai\\AppData\\Local\\Temp\\ipykernel_28212\\3795541707.py:18: SettingWithCopyWarning: \n",
      "A value is trying to be set on a copy of a slice from a DataFrame.\n",
      "Try using .loc[row_indexer,col_indexer] = value instead\n",
      "\n",
      "See the caveats in the documentation: https://pandas.pydata.org/pandas-docs/stable/user_guide/indexing.html#returning-a-view-versus-a-copy\n",
      "  df['year_published'] = df['year_published'].replace('Not Available; Indisponible', np.nan)\n",
      "C:\\Users\\xcai\\AppData\\Local\\Temp\\ipykernel_28212\\3795541707.py:19: SettingWithCopyWarning: \n",
      "A value is trying to be set on a copy of a slice from a DataFrame.\n",
      "Try using .loc[row_indexer,col_indexer] = value instead\n",
      "\n",
      "See the caveats in the documentation: https://pandas.pydata.org/pandas-docs/stable/user_guide/indexing.html#returning-a-view-versus-a-copy\n",
      "  df['year_created'] = df['year_created'].replace('Not Available; Indisponible', np.nan)\n"
     ]
    }
   ],
   "source": [
    "# Define a function to extract year from date strings\n",
    "def extract_year(date_str):\n",
    "    if isinstance(date_str, str):\n",
    "        return date_str.split('-')[0]\n",
    "    return np.nan\n",
    "\"\"\"\n",
    "# Apply the function to get the top 10 years\n",
    "df['year_published'] = df['features_properties_date_published_date'].apply(extract_year)\n",
    "df['year_created'] = df['features_properties_date_created_date'].apply(extract_year)\n",
    "df_year_published = df['year_published'].value_counts().reset_index().head(10)\n",
    "df_year_created = df['year_created'].value_counts().reset_index().head(10)\n",
    "\"\"\"\n",
    "\n",
    "# Apply the function to get all the years and reorder \n",
    "df['year_published'] = df['features_properties_date_published_date'].apply(extract_year)\n",
    "df['year_created'] = df['features_properties_date_created_date'].apply(extract_year)\n",
    "# Replace non-date values with np.nan\n",
    "df['year_published'] = df['year_published'].replace('Not Available; Indisponible', np.nan)\n",
    "df['year_created'] = df['year_created'].replace('Not Available; Indisponible', np.nan)\n",
    "\n",
    "# Drop rows with np.nan in 'year_published' and 'year_created'\n",
    "df = df.dropna(subset=['year_published', 'year_created'])\n",
    "\n",
    "# Get value counts, convert 'index' to integer for proper sorting, and sort by 'index'\n",
    "df_year_published = df['year_published'].value_counts().reset_index()\n",
    "df_year_published['index'] = df_year_published['index'].astype(int)\n",
    "df_year_published = df_year_published.sort_values('index')\n",
    "\n",
    "df_year_created = df['year_created'].value_counts().reset_index()\n",
    "df_year_created['index'] = df_year_created['index'].astype(int)\n",
    "df_year_created = df_year_created.sort_values('index')\n",
    "\n",
    "# Exclude years before 2000\n",
    "df_year_published = df_year_published[df_year_published['index'] >= 2000]\n",
    "df_year_created = df_year_created[df_year_created['index'] >= 2000]"
   ]
  },
  {
   "cell_type": "code",
   "execution_count": 9,
   "metadata": {},
   "outputs": [
    {
     "data": {
      "application/vnd.plotly.v1+json": {
       "config": {
        "plotlyServerURL": "https://plot.ly"
       },
       "data": [
        {
         "hovertemplate": "index=%{x}<br>year_created=%{y}<extra></extra>",
         "legendgroup": "",
         "line": {
          "color": "#636efa",
          "dash": "solid"
         },
         "marker": {
          "symbol": "circle"
         },
         "mode": "lines",
         "name": "",
         "orientation": "v",
         "showlegend": false,
         "type": "scatter",
         "x": [
          2000,
          2001,
          2002,
          2003,
          2004,
          2005,
          2006,
          2007,
          2008,
          2009,
          2010,
          2011,
          2012,
          2013,
          2014,
          2015,
          2016,
          2017,
          2018,
          2019,
          2020,
          2021,
          2022,
          2023
         ],
         "xaxis": "x",
         "y": [
          14,
          4,
          31,
          32,
          71,
          148,
          94,
          179,
          964,
          141,
          101,
          92,
          154,
          275,
          117,
          312,
          424,
          341,
          621,
          697,
          629,
          251,
          265,
          127
         ],
         "yaxis": "y"
        }
       ],
       "layout": {
        "legend": {
         "tracegroupgap": 0
        },
        "template": {
         "data": {
          "bar": [
           {
            "error_x": {
             "color": "#2a3f5f"
            },
            "error_y": {
             "color": "#2a3f5f"
            },
            "marker": {
             "line": {
              "color": "#E5ECF6",
              "width": 0.5
             },
             "pattern": {
              "fillmode": "overlay",
              "size": 10,
              "solidity": 0.2
             }
            },
            "type": "bar"
           }
          ],
          "barpolar": [
           {
            "marker": {
             "line": {
              "color": "#E5ECF6",
              "width": 0.5
             },
             "pattern": {
              "fillmode": "overlay",
              "size": 10,
              "solidity": 0.2
             }
            },
            "type": "barpolar"
           }
          ],
          "carpet": [
           {
            "aaxis": {
             "endlinecolor": "#2a3f5f",
             "gridcolor": "white",
             "linecolor": "white",
             "minorgridcolor": "white",
             "startlinecolor": "#2a3f5f"
            },
            "baxis": {
             "endlinecolor": "#2a3f5f",
             "gridcolor": "white",
             "linecolor": "white",
             "minorgridcolor": "white",
             "startlinecolor": "#2a3f5f"
            },
            "type": "carpet"
           }
          ],
          "choropleth": [
           {
            "colorbar": {
             "outlinewidth": 0,
             "ticks": ""
            },
            "type": "choropleth"
           }
          ],
          "contour": [
           {
            "colorbar": {
             "outlinewidth": 0,
             "ticks": ""
            },
            "colorscale": [
             [
              0,
              "#0d0887"
             ],
             [
              0.1111111111111111,
              "#46039f"
             ],
             [
              0.2222222222222222,
              "#7201a8"
             ],
             [
              0.3333333333333333,
              "#9c179e"
             ],
             [
              0.4444444444444444,
              "#bd3786"
             ],
             [
              0.5555555555555556,
              "#d8576b"
             ],
             [
              0.6666666666666666,
              "#ed7953"
             ],
             [
              0.7777777777777778,
              "#fb9f3a"
             ],
             [
              0.8888888888888888,
              "#fdca26"
             ],
             [
              1,
              "#f0f921"
             ]
            ],
            "type": "contour"
           }
          ],
          "contourcarpet": [
           {
            "colorbar": {
             "outlinewidth": 0,
             "ticks": ""
            },
            "type": "contourcarpet"
           }
          ],
          "heatmap": [
           {
            "colorbar": {
             "outlinewidth": 0,
             "ticks": ""
            },
            "colorscale": [
             [
              0,
              "#0d0887"
             ],
             [
              0.1111111111111111,
              "#46039f"
             ],
             [
              0.2222222222222222,
              "#7201a8"
             ],
             [
              0.3333333333333333,
              "#9c179e"
             ],
             [
              0.4444444444444444,
              "#bd3786"
             ],
             [
              0.5555555555555556,
              "#d8576b"
             ],
             [
              0.6666666666666666,
              "#ed7953"
             ],
             [
              0.7777777777777778,
              "#fb9f3a"
             ],
             [
              0.8888888888888888,
              "#fdca26"
             ],
             [
              1,
              "#f0f921"
             ]
            ],
            "type": "heatmap"
           }
          ],
          "heatmapgl": [
           {
            "colorbar": {
             "outlinewidth": 0,
             "ticks": ""
            },
            "colorscale": [
             [
              0,
              "#0d0887"
             ],
             [
              0.1111111111111111,
              "#46039f"
             ],
             [
              0.2222222222222222,
              "#7201a8"
             ],
             [
              0.3333333333333333,
              "#9c179e"
             ],
             [
              0.4444444444444444,
              "#bd3786"
             ],
             [
              0.5555555555555556,
              "#d8576b"
             ],
             [
              0.6666666666666666,
              "#ed7953"
             ],
             [
              0.7777777777777778,
              "#fb9f3a"
             ],
             [
              0.8888888888888888,
              "#fdca26"
             ],
             [
              1,
              "#f0f921"
             ]
            ],
            "type": "heatmapgl"
           }
          ],
          "histogram": [
           {
            "marker": {
             "pattern": {
              "fillmode": "overlay",
              "size": 10,
              "solidity": 0.2
             }
            },
            "type": "histogram"
           }
          ],
          "histogram2d": [
           {
            "colorbar": {
             "outlinewidth": 0,
             "ticks": ""
            },
            "colorscale": [
             [
              0,
              "#0d0887"
             ],
             [
              0.1111111111111111,
              "#46039f"
             ],
             [
              0.2222222222222222,
              "#7201a8"
             ],
             [
              0.3333333333333333,
              "#9c179e"
             ],
             [
              0.4444444444444444,
              "#bd3786"
             ],
             [
              0.5555555555555556,
              "#d8576b"
             ],
             [
              0.6666666666666666,
              "#ed7953"
             ],
             [
              0.7777777777777778,
              "#fb9f3a"
             ],
             [
              0.8888888888888888,
              "#fdca26"
             ],
             [
              1,
              "#f0f921"
             ]
            ],
            "type": "histogram2d"
           }
          ],
          "histogram2dcontour": [
           {
            "colorbar": {
             "outlinewidth": 0,
             "ticks": ""
            },
            "colorscale": [
             [
              0,
              "#0d0887"
             ],
             [
              0.1111111111111111,
              "#46039f"
             ],
             [
              0.2222222222222222,
              "#7201a8"
             ],
             [
              0.3333333333333333,
              "#9c179e"
             ],
             [
              0.4444444444444444,
              "#bd3786"
             ],
             [
              0.5555555555555556,
              "#d8576b"
             ],
             [
              0.6666666666666666,
              "#ed7953"
             ],
             [
              0.7777777777777778,
              "#fb9f3a"
             ],
             [
              0.8888888888888888,
              "#fdca26"
             ],
             [
              1,
              "#f0f921"
             ]
            ],
            "type": "histogram2dcontour"
           }
          ],
          "mesh3d": [
           {
            "colorbar": {
             "outlinewidth": 0,
             "ticks": ""
            },
            "type": "mesh3d"
           }
          ],
          "parcoords": [
           {
            "line": {
             "colorbar": {
              "outlinewidth": 0,
              "ticks": ""
             }
            },
            "type": "parcoords"
           }
          ],
          "pie": [
           {
            "automargin": true,
            "type": "pie"
           }
          ],
          "scatter": [
           {
            "fillpattern": {
             "fillmode": "overlay",
             "size": 10,
             "solidity": 0.2
            },
            "type": "scatter"
           }
          ],
          "scatter3d": [
           {
            "line": {
             "colorbar": {
              "outlinewidth": 0,
              "ticks": ""
             }
            },
            "marker": {
             "colorbar": {
              "outlinewidth": 0,
              "ticks": ""
             }
            },
            "type": "scatter3d"
           }
          ],
          "scattercarpet": [
           {
            "marker": {
             "colorbar": {
              "outlinewidth": 0,
              "ticks": ""
             }
            },
            "type": "scattercarpet"
           }
          ],
          "scattergeo": [
           {
            "marker": {
             "colorbar": {
              "outlinewidth": 0,
              "ticks": ""
             }
            },
            "type": "scattergeo"
           }
          ],
          "scattergl": [
           {
            "marker": {
             "colorbar": {
              "outlinewidth": 0,
              "ticks": ""
             }
            },
            "type": "scattergl"
           }
          ],
          "scattermapbox": [
           {
            "marker": {
             "colorbar": {
              "outlinewidth": 0,
              "ticks": ""
             }
            },
            "type": "scattermapbox"
           }
          ],
          "scatterpolar": [
           {
            "marker": {
             "colorbar": {
              "outlinewidth": 0,
              "ticks": ""
             }
            },
            "type": "scatterpolar"
           }
          ],
          "scatterpolargl": [
           {
            "marker": {
             "colorbar": {
              "outlinewidth": 0,
              "ticks": ""
             }
            },
            "type": "scatterpolargl"
           }
          ],
          "scatterternary": [
           {
            "marker": {
             "colorbar": {
              "outlinewidth": 0,
              "ticks": ""
             }
            },
            "type": "scatterternary"
           }
          ],
          "surface": [
           {
            "colorbar": {
             "outlinewidth": 0,
             "ticks": ""
            },
            "colorscale": [
             [
              0,
              "#0d0887"
             ],
             [
              0.1111111111111111,
              "#46039f"
             ],
             [
              0.2222222222222222,
              "#7201a8"
             ],
             [
              0.3333333333333333,
              "#9c179e"
             ],
             [
              0.4444444444444444,
              "#bd3786"
             ],
             [
              0.5555555555555556,
              "#d8576b"
             ],
             [
              0.6666666666666666,
              "#ed7953"
             ],
             [
              0.7777777777777778,
              "#fb9f3a"
             ],
             [
              0.8888888888888888,
              "#fdca26"
             ],
             [
              1,
              "#f0f921"
             ]
            ],
            "type": "surface"
           }
          ],
          "table": [
           {
            "cells": {
             "fill": {
              "color": "#EBF0F8"
             },
             "line": {
              "color": "white"
             }
            },
            "header": {
             "fill": {
              "color": "#C8D4E3"
             },
             "line": {
              "color": "white"
             }
            },
            "type": "table"
           }
          ]
         },
         "layout": {
          "annotationdefaults": {
           "arrowcolor": "#2a3f5f",
           "arrowhead": 0,
           "arrowwidth": 1
          },
          "autotypenumbers": "strict",
          "coloraxis": {
           "colorbar": {
            "outlinewidth": 0,
            "ticks": ""
           }
          },
          "colorscale": {
           "diverging": [
            [
             0,
             "#8e0152"
            ],
            [
             0.1,
             "#c51b7d"
            ],
            [
             0.2,
             "#de77ae"
            ],
            [
             0.3,
             "#f1b6da"
            ],
            [
             0.4,
             "#fde0ef"
            ],
            [
             0.5,
             "#f7f7f7"
            ],
            [
             0.6,
             "#e6f5d0"
            ],
            [
             0.7,
             "#b8e186"
            ],
            [
             0.8,
             "#7fbc41"
            ],
            [
             0.9,
             "#4d9221"
            ],
            [
             1,
             "#276419"
            ]
           ],
           "sequential": [
            [
             0,
             "#0d0887"
            ],
            [
             0.1111111111111111,
             "#46039f"
            ],
            [
             0.2222222222222222,
             "#7201a8"
            ],
            [
             0.3333333333333333,
             "#9c179e"
            ],
            [
             0.4444444444444444,
             "#bd3786"
            ],
            [
             0.5555555555555556,
             "#d8576b"
            ],
            [
             0.6666666666666666,
             "#ed7953"
            ],
            [
             0.7777777777777778,
             "#fb9f3a"
            ],
            [
             0.8888888888888888,
             "#fdca26"
            ],
            [
             1,
             "#f0f921"
            ]
           ],
           "sequentialminus": [
            [
             0,
             "#0d0887"
            ],
            [
             0.1111111111111111,
             "#46039f"
            ],
            [
             0.2222222222222222,
             "#7201a8"
            ],
            [
             0.3333333333333333,
             "#9c179e"
            ],
            [
             0.4444444444444444,
             "#bd3786"
            ],
            [
             0.5555555555555556,
             "#d8576b"
            ],
            [
             0.6666666666666666,
             "#ed7953"
            ],
            [
             0.7777777777777778,
             "#fb9f3a"
            ],
            [
             0.8888888888888888,
             "#fdca26"
            ],
            [
             1,
             "#f0f921"
            ]
           ]
          },
          "colorway": [
           "#636efa",
           "#EF553B",
           "#00cc96",
           "#ab63fa",
           "#FFA15A",
           "#19d3f3",
           "#FF6692",
           "#B6E880",
           "#FF97FF",
           "#FECB52"
          ],
          "font": {
           "color": "#2a3f5f"
          },
          "geo": {
           "bgcolor": "white",
           "lakecolor": "white",
           "landcolor": "#E5ECF6",
           "showlakes": true,
           "showland": true,
           "subunitcolor": "white"
          },
          "hoverlabel": {
           "align": "left"
          },
          "hovermode": "closest",
          "mapbox": {
           "style": "light"
          },
          "paper_bgcolor": "white",
          "plot_bgcolor": "#E5ECF6",
          "polar": {
           "angularaxis": {
            "gridcolor": "white",
            "linecolor": "white",
            "ticks": ""
           },
           "bgcolor": "#E5ECF6",
           "radialaxis": {
            "gridcolor": "white",
            "linecolor": "white",
            "ticks": ""
           }
          },
          "scene": {
           "xaxis": {
            "backgroundcolor": "#E5ECF6",
            "gridcolor": "white",
            "gridwidth": 2,
            "linecolor": "white",
            "showbackground": true,
            "ticks": "",
            "zerolinecolor": "white"
           },
           "yaxis": {
            "backgroundcolor": "#E5ECF6",
            "gridcolor": "white",
            "gridwidth": 2,
            "linecolor": "white",
            "showbackground": true,
            "ticks": "",
            "zerolinecolor": "white"
           },
           "zaxis": {
            "backgroundcolor": "#E5ECF6",
            "gridcolor": "white",
            "gridwidth": 2,
            "linecolor": "white",
            "showbackground": true,
            "ticks": "",
            "zerolinecolor": "white"
           }
          },
          "shapedefaults": {
           "line": {
            "color": "#2a3f5f"
           }
          },
          "ternary": {
           "aaxis": {
            "gridcolor": "white",
            "linecolor": "white",
            "ticks": ""
           },
           "baxis": {
            "gridcolor": "white",
            "linecolor": "white",
            "ticks": ""
           },
           "bgcolor": "#E5ECF6",
           "caxis": {
            "gridcolor": "white",
            "linecolor": "white",
            "ticks": ""
           }
          },
          "title": {
           "x": 0.05
          },
          "xaxis": {
           "automargin": true,
           "gridcolor": "white",
           "linecolor": "white",
           "ticks": "",
           "title": {
            "standoff": 15
           },
           "zerolinecolor": "white",
           "zerolinewidth": 2
          },
          "yaxis": {
           "automargin": true,
           "gridcolor": "white",
           "linecolor": "white",
           "ticks": "",
           "title": {
            "standoff": 15
           },
           "zerolinecolor": "white",
           "zerolinewidth": 2
          }
         }
        },
        "title": {
         "text": "Created Date: number of records created in each year since 2000"
        },
        "xaxis": {
         "anchor": "y",
         "domain": [
          0,
          1
         ],
         "dtick": 2,
         "tick0": 2000,
         "title": {
          "text": "index"
         }
        },
        "yaxis": {
         "anchor": "x",
         "domain": [
          0,
          1
         ],
         "title": {
          "text": "year_created"
         }
        }
       }
      }
     },
     "metadata": {},
     "output_type": "display_data"
    }
   ],
   "source": [
    "# Create the visuals\n",
    "fig_topic = px.bar(df_topic, y='index', x='features_properties_topicCategory', title='Topic 10 Categories',orientation='h')\n",
    "fig_status = px.bar(df_status, y='index', x='features_properties_status', title='Top 10 Status',orientation='h')\n",
    "fig_spatial = px.pie(df_spatial, values='features_properties_spatialRepresentation', names='index', title='Spatial Representations: Breakdown of Spatial Representations for metadata records ')\n",
    "fig_type = px.pie(df_type, values='features_properties_type', names='index', title='Feature Types: Breakdown of Feature Types for metadata records')\n",
    "fig_standard = px.pie(df_standard, values='features_properties_metadataStandard_en', names='index', title='Metadata Standards of the records')\n",
    "fig_language= px.pie(df_language, values='features_properties_language', names='index', title='Languages of the records')\n",
    "fig_year_published = px.line(df_year_published, x='index', y='year_published', title='Published Date: number of records published in each year since 2000')\n",
    "fig_year_created = px.line(df_year_created, x='index', y='year_created', title='Created Date: number of records created in each year since 2000')\n",
    "# Update x-axis tick interval\n",
    "fig_year_published.update_xaxes(tick0=2000, dtick=2)\n",
    "fig_year_created.update_xaxes(tick0=2000, dtick=2)"
   ]
  },
  {
   "cell_type": "code",
   "execution_count": 10,
   "metadata": {},
   "outputs": [],
   "source": [
    "# Function to create wordcloud \n",
    "def create_word_cloud(df):\n",
    "    text = \" \".join(i for i in df)\n",
    "    print('Word count for all the titles are {}'. format(len(text)))\n",
    "    stopwords = set(STOPWORDS)\n",
    "    wordcloud = WordCloud(width=1800, height=800, background_color='white').generate(text)\n",
    "    return wordcloud.to_image()\n"
   ]
  },
  {
   "cell_type": "code",
   "execution_count": 11,
   "metadata": {},
   "outputs": [
    {
     "name": "stdout",
     "output_type": "stream",
     "text": [
      "Word count for all the titles are 395152\n"
     ]
    }
   ],
   "source": [
    "word_cloud_image = create_word_cloud(df_clean['features_properties_title_en'])  \n",
    "buffered = io.BytesIO()\n",
    "word_cloud_image.save(buffered, format=\"PNG\")\n",
    "img_str = base64.b64encode(buffered.getvalue()).decode()\n"
   ]
  },
  {
   "cell_type": "code",
   "execution_count": 12,
   "metadata": {},
   "outputs": [],
   "source": [
    "# Initialize the Dash app\n",
    "app = dash.Dash(__name__)"
   ]
  },
  {
   "cell_type": "code",
   "execution_count": 13,
   "metadata": {},
   "outputs": [],
   "source": [
    "# Define the layout\n",
    "app.layout = html.Div(children=[\n",
    "    html.H1(children='Dashboard'),\n",
    "\n",
    "    html.Div(children='''\n",
    "         This dashboard shows the overall description of the data.In the first row, there are 10 categories of the topics, top 10 status, spatial representations, feature types, metadata standards, languages, years of published date and years of created date. In the second row, there is a word cloud of the metadata.\n",
    "    '''),\n",
    "\n",
    "    dcc.Graph(figure=fig_topic),\n",
    "    dcc.Graph(figure=fig_status),\n",
    "    dcc.Graph(figure=fig_spatial),\n",
    "    dcc.Graph(figure=fig_type),\n",
    "    dcc.Graph(figure=fig_standard),\n",
    "    dcc.Graph(figure=fig_language),\n",
    "    dcc.Graph(figure=fig_year_published),\n",
    "    dcc.Graph(figure=fig_year_created),\n",
    "    \n",
    "    \n",
    "    html.Div(children=[\n",
    "        html.H1(children='Word Cloud of the records title',style={'backgroundColor': 'white', 'textAlign': 'center'}),\n",
    "        html.Img(src='data:image/png;base64,{}'.format(img_str))\n",
    "    ])\n",
    "])"
   ]
  },
  {
   "cell_type": "code",
   "execution_count": 14,
   "metadata": {},
   "outputs": [
    {
     "data": {
      "text/html": [
       "\n",
       "        <iframe\n",
       "            width=\"100%\"\n",
       "            height=\"650\"\n",
       "            src=\"http://127.0.0.1:8050/\"\n",
       "            frameborder=\"0\"\n",
       "            allowfullscreen\n",
       "            \n",
       "        ></iframe>\n",
       "        "
      ],
      "text/plain": [
       "<IPython.lib.display.IFrame at 0x1ce0abf53d0>"
      ]
     },
     "metadata": {},
     "output_type": "display_data"
    }
   ],
   "source": [
    "# Run the app\n",
    "app.run_server(debug=True)"
   ]
  },
  {
   "cell_type": "code",
   "execution_count": null,
   "metadata": {},
   "outputs": [],
   "source": []
  }
 ],
 "metadata": {
  "kernelspec": {
   "display_name": "DS",
   "language": "python",
   "name": "python3"
  },
  "language_info": {
   "codemirror_mode": {
    "name": "ipython",
    "version": 3
   },
   "file_extension": ".py",
   "mimetype": "text/x-python",
   "name": "python",
   "nbconvert_exporter": "python",
   "pygments_lexer": "ipython3",
   "version": "3.8.13"
  },
  "orig_nbformat": 4
 },
 "nbformat": 4,
 "nbformat_minor": 2
}
